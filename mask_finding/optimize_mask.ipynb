{
 "cells": [
  {
   "cell_type": "markdown",
   "metadata": {},
   "source": [
    "# Load LLM, SAEs\n",
    "\n",
    "sae layers: [7, 14, 21, 28, 40]\n",
    "llm gemma 9b"
   ]
  },
  {
   "cell_type": "code",
   "execution_count": 1,
   "metadata": {
    "ExecuteTime": {
     "end_time": "2024-11-27T07:43:04.890895Z",
     "start_time": "2024-11-27T07:42:34.748286Z"
    },
    "notebookRunGroups": {
     "groupValue": "1"
    }
   },
   "outputs": [
    {
     "name": "stderr",
     "output_type": "stream",
     "text": [
      "WARNING:root:You tried to specify center_unembed=True for a model using logit softcap, but this can't be done! Softcapping is not invariant upon adding a constantSetting center_unembed=False instead.\n"
     ]
    },
    {
     "data": {
      "application/vnd.jupyter.widget-view+json": {
       "model_id": "eea38b110a7845ada913c9554bade36c",
       "version_major": 2,
       "version_minor": 0
      },
      "text/plain": [
       "Loading checkpoint shards:   0%|          | 0/8 [00:00<?, ?it/s]"
      ]
     },
     "metadata": {},
     "output_type": "display_data"
    },
    {
     "name": "stderr",
     "output_type": "stream",
     "text": [
      "WARNING:root:You are not using LayerNorm, so the writing weights can't be centered! Skipping\n"
     ]
    },
    {
     "name": "stdout",
     "output_type": "stream",
     "text": [
      "Loaded pretrained model gemma-2-9b into HookedTransformer\n",
      "pad token id is 0\n"
     ]
    }
   ],
   "source": [
    "from datasets import load_dataset\n",
    "from transformers import AutoTokenizer\n",
    "import torch\n",
    "import circuitsvis as cv\n",
    "import transformer_lens.utils as utils\n",
    "from transformer_lens.hook_points import (\n",
    "    HookPoint,\n",
    ")  # Hooking utilities\n",
    "from transformer_lens import HookedTransformer, FactoredMatrix\n",
    "import tqdm\n",
    "import torch.nn as nn\n",
    "import torch.optim as optim\n",
    "import math\n",
    "import torch.nn.functional as F\n",
    "import matplotlib.pyplot as plt\n",
    "import numpy as np\n",
    "import functools\n",
    "import pandas as pd\n",
    "\n",
    "\n",
    "# device= 'cuda' if torch.cuda.is_available() else 'cpu'\n",
    "# torch.set_default_device(device)\n",
    "# assert device == 'cuda', \"This notebook is not optimized for CPU\"\n",
    "\n",
    "import transformer_lens\n",
    "\n",
    "# Load a model\n",
    "model = transformer_lens.HookedTransformer.from_pretrained(\"gemma-2-9b\", device=\"cuda\")\n",
    "pad_token_id = model.tokenizer.pad_token_id\n",
    "print('pad token id is', pad_token_id)\n",
    "\n",
    "for param in model.parameters():\n",
    "   param.requires_grad_(False)\n",
    "\n",
    "device = \"cuda\"\n",
    "\n"
   ]
  },
  {
   "cell_type": "code",
   "execution_count": 2,
   "metadata": {
    "notebookRunGroups": {
     "groupValue": "2"
    }
   },
   "outputs": [],
   "source": [
    "device= 'cuda' if torch.cuda.is_available() else 'cpu'\n",
    "torch.set_default_device(device)\n",
    "assert device == 'cuda', \"This notebook is not optimized for CPU\"\n"
   ]
  },
  {
   "cell_type": "code",
   "execution_count": 3,
   "metadata": {},
   "outputs": [],
   "source": [
    "from sae_lens import SAE, HookedSAETransformer\n",
    "layers= [7, 14, 21, 40]\n",
    "l0s = [92, 67, 129, 125]\n",
    "saes = [SAE.from_pretrained(release=\"gemma-scope-9b-pt-res\", sae_id=f\"layer_{layers[i]}/width_16k/average_l0_{l0s[i]}\", device=device)[0] for i in range(len(layers))]"
   ]
  },
  {
   "cell_type": "code",
   "execution_count": 4,
   "metadata": {},
   "outputs": [],
   "source": [
    "# import signal\n",
    "# import torch.nn as nn\n",
    "# class KeyboardInterruptBlocker:\n",
    "#     def __enter__(self):\n",
    "#         # Ignore SIGINT (KeyboardInterrupt) and save the old handler\n",
    "#         self.original_handler = signal.signal(signal.SIGINT, signal.SIG_IGN)\n",
    "#     def __exit__(self, exc_type, exc_value, traceback):\n",
    "#         # Restore the original SIGINT handler\n",
    "#         signal.signal(signal.SIGINT, self.original_handler)\n",
    "# class SparseMask(nn.Module):\n",
    "#     def __init__(self, shape, l1, seq_len=None):\n",
    "#         super().__init__()\n",
    "#         if seq_len is not None:\n",
    "#             self.mask = nn.Parameter(torch.ones(seq_len, shape))\n",
    "#         else:\n",
    "#             self.mask = nn.Parameter(torch.ones(shape))\n",
    "#         self.l1 = l1\n",
    "#         self.max_temp = torch.tensor(1000.0)\n",
    "#         self.sparsity_loss = None\n",
    "#         self.ratio_trained = 1\n",
    "#         self.temperature = 1\n",
    "#     def forward(self, x, binary=False, mean_ablation=None):\n",
    "#         if binary and mean_ablation is not None:\n",
    "#             binarized = (self.mask > 0).float().to(x.device)\n",
    "#             return x * binarized + mean_ablation * (~binarized.bool())\n",
    "#         if binary:\n",
    "#             # binary mask, 0 if negative, 1 if positive\n",
    "#             binarized = (self.mask > 0).float()\n",
    "#             return x * binarized\n",
    "#         self.temperature = self.max_temp ** self.ratio_trained\n",
    "#         mask = torch.sigmoid(self.mask * self.temperature)\n",
    "#         self.sparsity_loss = torch.abs(mask).sum() * self.l1\n",
    "#         if mean_ablation is None:\n",
    "#             return x * mask\n",
    "#         else:\n",
    "#             return x * mask + mean_ablation * (~mask.bool())\n",
    "# # for sae in saes:\n",
    "# #     sae.mask = SparseMask(sae.cfg.d_sae, 1.0, seq_len=67)\n",
    "\n"
   ]
  },
  {
   "cell_type": "markdown",
   "metadata": {},
   "source": [
    "# Load Dataset"
   ]
  },
  {
   "cell_type": "code",
   "execution_count": 5,
   "metadata": {},
   "outputs": [],
   "source": [
    "# Updated version to return JSON with more names and structure for correct and incorrect keying examples\n",
    "\n",
    "import json\n",
    "import random\n",
    "\n",
    "# Expanding the name pool with a larger set of names\n",
    "extended_name_pool = [\n",
    "    \"Bob\", \"Sam\", \"Lilly\", \"Rob\", \"Alice\", \"Charlie\", \"Sally\", \"Tom\", \"Jake\", \"Emily\", \n",
    "    \"Megan\", \"Chris\", \"Sophia\", \"James\", \"Oliver\", \"Isabella\", \"Mia\", \"Jackson\", \n",
    "    \"Emma\", \"Ava\", \"Lucas\", \"Benjamin\", \"Ethan\", \"Grace\", \"Olivia\", \"Liam\", \"Noah\"\n",
    "]\n",
    "\n",
    "for name in extended_name_pool:\n",
    "    assert len(model.tokenizer.encode(name)) == 2, f\"Name {name} has more than 1 token\"\n",
    "\n",
    "# Function to generate the dataset with correct and incorrect keying into dictionaries\n",
    "def generate_extended_dataset(name_pool, num_samples=5):\n",
    "    dataset = []\n",
    "    \n",
    "    for _ in range(num_samples):\n",
    "        # Randomly select 5 names from the pool\n",
    "        selected_names = random.sample(name_pool, 5)\n",
    "        # Assign random ages to the selected names\n",
    "        age_dict = {name: random.randint(10, 19) for name in selected_names}\n",
    "        \n",
    "        # Create a correct example\n",
    "        correct_name = random.choice(list(age_dict.keys()))\n",
    "        correct_prompt = f'Type \"help\", \"copyright\", \"credits\" or \"license\" for more information.\\n>>> age = {age_dict}\\n>>> age[\"{correct_name}\"]\\n'\n",
    "        correct_response = age_dict[correct_name]\n",
    "        correct_token = str(correct_response)[0]\n",
    "        \n",
    "        # Create an incorrect example with a name not in the dictionary\n",
    "        incorrect_name = random.choice([name for name in name_pool if name not in age_dict])\n",
    "        incorrect_prompt = f'Type \"help\", \"copyright\", \"credits\" or \"license\" for more information.\\n>>> age = {age_dict}\\n>>> age[\"{incorrect_name}\"]\\n'\n",
    "        incorrect_response = \"Traceback\"\n",
    "        incorrect_token = \"Traceback\"\n",
    "        \n",
    "        # Append the pair of correct and incorrect examples\n",
    "        dataset.append({\n",
    "            \"correct\": {\n",
    "                \"prompt\": correct_prompt,\n",
    "                \"response\": correct_response,\n",
    "                \"token\": correct_token\n",
    "            },\n",
    "            \"error\": {\n",
    "                \"prompt\": incorrect_prompt,\n",
    "                \"response\": incorrect_response,\n",
    "                \"token\": incorrect_token\n",
    "            }\n",
    "        })\n",
    "    \n",
    "    \n",
    "    return dataset\n",
    "\n",
    "# Generate the extended dataset\n",
    "json_dataset = generate_extended_dataset(extended_name_pool, num_samples=100_000)\n",
    "\n",
    "# Output the JSON structure\n"
   ]
  },
  {
   "cell_type": "code",
   "execution_count": 6,
   "metadata": {},
   "outputs": [],
   "source": [
    "simple_dataset_ex_len = 65"
   ]
  },
  {
   "cell_type": "code",
   "execution_count": 7,
   "metadata": {},
   "outputs": [
    {
     "data": {
      "text/plain": [
       "{'correct': {'prompt': 'Type \"help\", \"copyright\", \"credits\" or \"license\" for more information.\\n>>> age = {\\'Megan\\': 10, \\'Grace\\': 16, \\'Liam\\': 18, \\'Sally\\': 10, \\'Emily\\': 11}\\n>>> age[\"Liam\"]\\n',\n",
       "  'response': 18,\n",
       "  'token': '1'},\n",
       " 'error': {'prompt': 'Type \"help\", \"copyright\", \"credits\" or \"license\" for more information.\\n>>> age = {\\'Megan\\': 10, \\'Grace\\': 16, \\'Liam\\': 18, \\'Sally\\': 10, \\'Emily\\': 11}\\n>>> age[\"Sophia\"]\\n',\n",
       "  'response': 'Traceback',\n",
       "  'token': 'Traceback'}}"
      ]
     },
     "execution_count": 7,
     "metadata": {},
     "output_type": "execute_result"
    }
   ],
   "source": [
    "json_dataset[0]"
   ]
  },
  {
   "cell_type": "code",
   "execution_count": 8,
   "metadata": {},
   "outputs": [
    {
     "data": {
      "text/plain": [
       "tensor([[     2, 235285,   1154,   4506,      0,      0],\n",
       "        [     2, 235285,   1154,  11514,    578,   4506],\n",
       "        [     2,  39954,      0,      0,      0,      0],\n",
       "        [     2,  34371,      0,      0,      0,      0]], device='cuda:0')"
      ]
     },
     "execution_count": 8,
     "metadata": {},
     "output_type": "execute_result"
    }
   ],
   "source": [
    "tokenized = model.to_tokens([\"I like pie\", \"I like cake and pie\", \"birds\", 'cats'])\n",
    "torch.count_nonzero(tokenized != pad_token_id, dim=-1)-1\n",
    "tokenized\n"
   ]
  },
  {
   "cell_type": "code",
   "execution_count": 9,
   "metadata": {},
   "outputs": [
    {
     "data": {
      "text/plain": [
       "tensor([1, 2, 3, 1, 2, 3, 4], device='cuda:0')"
      ]
     },
     "execution_count": 9,
     "metadata": {},
     "output_type": "execute_result"
    }
   ],
   "source": [
    "tensa = torch.tensor([1,2,3,])\n",
    "tesb = torch.tensor([1,2,3,4])\n",
    "torch.cat([tensa, tesb])"
   ]
  },
  {
   "cell_type": "code",
   "execution_count": 10,
   "metadata": {},
   "outputs": [],
   "source": [
    "class ContrastiveDatasetBatch:\n",
    "    def __init__(self, dataset_items):\n",
    "        self.correct_batch = [item[\"correct\"] for item in dataset_items]\n",
    "        self.error_batch = [item[\"error\"] for item in dataset_items]\n",
    "        self.batch_size = len(self.correct_batch)\n",
    "        self.correct_token_idx = model.to_single_token(\"1\")\n",
    "        self.error_token_idx = model.to_single_token(\"Traceback\")\n",
    "\n",
    "        correct_tokenized = None\n",
    "        error_tokenized = None\n",
    "\n",
    "        correct_prompts = [example[\"prompt\"] for example in self.correct_batch]\n",
    "        error_prompts = [example[\"prompt\"] for example in self.error_batch]\n",
    "        assert len(correct_prompts) == len(error_prompts)\n",
    "        all_prompts = correct_prompts + error_prompts\n",
    "        all_tokenized = model.to_tokens(all_prompts)\n",
    "        last_non_pad_idxs = torch.count_nonzero(all_tokenized != pad_token_id, dim=-1) - 1\n",
    "\n",
    "\n",
    "        correct_tokenized = all_tokenized[:self.batch_size]\n",
    "        correct_answer_idxs = last_non_pad_idxs[:self.batch_size]\n",
    "        error_tokenized = all_tokenized[self.batch_size:]\n",
    "        error_answer_idxs = last_non_pad_idxs[self.batch_size:]\n",
    "\n",
    "        self.correct_tokenized = correct_tokenized\n",
    "        self.error_tokenized = error_tokenized\n",
    "        self.correct_answer_seq_idxs = correct_answer_idxs\n",
    "        self.error_answer_seq_idxs = error_answer_idxs\n",
    "\n",
    "        self.all_tokenized = all_tokenized\n",
    "        self.all_answer_seq_idxs = last_non_pad_idxs\n",
    "        self.all_prompts = all_prompts\n",
    "        # the tokens are: [correct prompt, correct prompt, ..., error prompt, error prompt, ...]\n",
    "        self.all_answers_tok_idxs = torch.cat(\n",
    "            [\n",
    "                torch.ones(self.batch_size, dtype=torch.int64)*self.correct_token_idx,\n",
    "                torch.ones(self.batch_size, dtype=torch.int64)*self.error_token_idx\n",
    "            ]\n",
    "            )\n",
    "        self.all_wrong_answers_tok_idxs = torch.cat(\n",
    "            [\n",
    "                torch.ones(self.batch_size, dtype=torch.int64)*self.error_token_idx,\n",
    "                torch.ones(self.batch_size, dtype=torch.int64)*self.correct_token_idx\n",
    "            ]\n",
    "            )\n",
    "    \n",
    "    def get_logit_diffs(self, clean_logits, error_logits):\n",
    "        # for the clean pass, get the logit for the \"1\" token and the \"Traceback\" token\n",
    "        correct_code_right_logits = clean_logits[torch.arange(self.batch_size), self.correct_answer_seq_idxs, self.correct_token_idx]\n",
    "        correct_code_wrong_logits = clean_logits[torch.arange(self.batch_size), self.correct_answer_seq_idxs, self.error_token_idx]\n",
    "        correct_logit_diffs = correct_code_right_logits - correct_code_wrong_logits\n",
    "\n",
    "        # for the error pass, get the logit for the Traceback token and the \"1\" token\n",
    "        error_code_right_logits = error_logits[torch.arange(self.batch_size), self.error_answer_seq_idxs, self.error_token_idx]\n",
    "        error_code_wrong_logits = error_logits[torch.arange(self.batch_size), self.error_answer_seq_idxs, self.correct_token_idx]\n",
    "        error_logit_diffs = error_code_right_logits - error_code_wrong_logits\n",
    "        return {\"correct_code_diff\": correct_logit_diffs, \"error_code_diff\": error_logit_diffs}\n",
    "        \n",
    "\n",
    "\n",
    "eval_dataset = ContrastiveDatasetBatch(json_dataset[:10])"
   ]
  },
  {
   "cell_type": "code",
   "execution_count": 11,
   "metadata": {},
   "outputs": [],
   "source": [
    "simple_dataset = []\n",
    "simple_labels = []\n",
    "\n",
    "answer_token = model.to_single_token(\"1\")\n",
    "traceback_token = model.to_single_token(\"Traceback\")\n",
    "\n",
    "for item in json_dataset:\n",
    "    simple_dataset.append(item[\"correct\"][\"prompt\"])\n",
    "    simple_dataset.append(item[\"error\"][\"prompt\"])\n",
    "    simple_labels.append(answer_token)\n",
    "    simple_labels.append(traceback_token)\n",
    "\n",
    "\n",
    "simple_dataset = model.to_tokens(simple_dataset)\n",
    "simple_labels = torch.tensor(simple_labels)\n",
    "\n"
   ]
  },
  {
   "cell_type": "code",
   "execution_count": 12,
   "metadata": {},
   "outputs": [],
   "source": [
    "permutation = torch.randperm(len(simple_dataset))\n",
    "simple_dataset = simple_dataset[permutation]\n",
    "simple_labels = simple_labels[permutation]"
   ]
  },
  {
   "cell_type": "code",
   "execution_count": 13,
   "metadata": {},
   "outputs": [
    {
     "name": "stdout",
     "output_type": "stream",
     "text": [
      "token:'\n",
      "'\n",
      "Answer:\n"
     ]
    },
    {
     "data": {
      "text/plain": [
       "'Traceback'"
      ]
     },
     "execution_count": 13,
     "metadata": {},
     "output_type": "execute_result"
    }
   ],
   "source": [
    "print(f\"token:'{model.to_str_tokens(eval_dataset.all_tokenized[15])[eval_dataset.all_answer_seq_idxs[15]]}'\")\n",
    "print(\"Answer:\")\n",
    "model.to_string([eval_dataset.all_answers_tok_idxs[15]])"
   ]
  },
  {
   "cell_type": "markdown",
   "metadata": {},
   "source": [
    "# Helper Fns"
   ]
  },
  {
   "cell_type": "code",
   "execution_count": 14,
   "metadata": {},
   "outputs": [],
   "source": [
    "import signal\n",
    "\n",
    "class KeyboardInterruptBlocker:\n",
    "    def __enter__(self):\n",
    "        # Ignore SIGINT (KeyboardInterrupt) and save the old handler\n",
    "        self.original_handler = signal.signal(signal.SIGINT, signal.SIG_IGN)\n",
    "\n",
    "    def __exit__(self, exc_type, exc_value, traceback):\n",
    "        # Restore the original SIGINT handler\n",
    "        signal.signal(signal.SIGINT, self.original_handler)\n"
   ]
  },
  {
   "cell_type": "code",
   "execution_count": 15,
   "metadata": {
    "notebookRunGroups": {
     "groupValue": "1"
    }
   },
   "outputs": [],
   "source": [
    "class SparseMask(nn.Module):\n",
    "    def __init__(self, shape, l1, seq_len=None):\n",
    "        super().__init__()\n",
    "        if seq_len is not None:\n",
    "            self.mask = nn.Parameter(torch.ones(seq_len, shape))\n",
    "        else:\n",
    "            self.mask = nn.Parameter(torch.ones(shape))\n",
    "        self.l1 = l1\n",
    "        self.max_temp = torch.tensor(1000.0)\n",
    "        self.sparsity_loss = None\n",
    "        self.ratio_trained = 1\n",
    "        self.temperature = 1\n",
    "\n",
    "\n",
    "    def forward(self, x, binary=False, mean_ablation=None):\n",
    "        if binary:\n",
    "            # binary mask, 0 if negative, 1 if positive\n",
    "            binarized = (self.mask > 0).float()\n",
    "            if mean_ablation is None:\n",
    "                return x * binarized\n",
    "            else:\n",
    "                diff = x - mean_ablation\n",
    "                return diff * binarized + mean_ablation\n",
    "            \n",
    "\n",
    "        self.temperature = self.max_temp ** self.ratio_trained\n",
    "        mask = torch.sigmoid(self.mask * self.temperature)\n",
    "        self.sparsity_loss = torch.abs(mask).sum() * self.l1\n",
    "\n",
    "        if mean_ablation is None:\n",
    "            return x * mask\n",
    "        else:\n",
    "            diff = x - mean_ablation\n",
    "            return diff * mask + mean_ablation\n",
    "\n",
    "\n",
    "\n",
    "for sae in saes:\n",
    "    sae.mask = SparseMask(sae.cfg.d_sae, 1.0, seq_len=65)\n",
    "# saes[0].mask = SparseMask(saes[0].cfg.d_sae, 1.0)\n",
    "# saes[1].mask = SparseMask(saes[1].cfg.d_sae, 1.0)\n",
    "\n"
   ]
  },
  {
   "cell_type": "code",
   "execution_count": 16,
   "metadata": {},
   "outputs": [
    {
     "data": {
      "text/plain": [
       "torch.Size([65, 16384])"
      ]
     },
     "execution_count": 16,
     "metadata": {},
     "output_type": "execute_result"
    }
   ],
   "source": [
    "saes[3].mask.mask.shape"
   ]
  },
  {
   "cell_type": "code",
   "execution_count": 17,
   "metadata": {},
   "outputs": [],
   "source": [
    "def apply_mask(mask_idxs, sae):\n",
    "    mask = torch.full_like(sae.mask.mask, -10)\n",
    "    mask[mask_idxs] = 10\n",
    "    sae.mask.mask.data = mask"
   ]
  },
  {
   "cell_type": "code",
   "execution_count": 18,
   "metadata": {},
   "outputs": [],
   "source": [
    "def load_sparsemask(mask_path):\n",
    "    json_mask = json.load(open(mask_path))\n",
    "    for sae in saes:\n",
    "        apply_mask(json_mask[sae.cfg.hook_name], sae)\n",
    "    "
   ]
  },
  {
   "cell_type": "code",
   "execution_count": 19,
   "metadata": {},
   "outputs": [],
   "source": [
    "bos_token_id = model.tokenizer.bos_token_id\n",
    "\n",
    "def build_sae_hook_fn(sae, sequence, cache_grads=False, circuit_mask=None, use_mask=False, binarize_mask=False, cache_masked_activations=False, cache_sae_activations=False,  mean_mask=False, mean_ablate=False): # mean_ablate mean ablates the SAE\n",
    "    # make the mask for the sequence\n",
    "    mask = torch.ones_like(sequence, dtype=torch.bool)\n",
    "    mask[sequence == pad_token_id] = False\n",
    "    mask[sequence == bos_token_id] = False # where mask is false, keep original\n",
    "    def sae_hook(value, hook):\n",
    "        # print(f\"sae {sae.cfg.hook_name} running at layer {hook.layer()}\")\n",
    "        feature_acts = sae.encode(value)\n",
    "        if cache_grads:\n",
    "            sae.feature_acts = feature_acts\n",
    "            sae.feature_acts.retain_grad()\n",
    "        \n",
    "        if cache_sae_activations:\n",
    "            sae.feature_acts = feature_acts.detach().clone()\n",
    "        \n",
    "        # apply the mask, with configurable options\n",
    "        if use_mask:\n",
    "            if mean_mask:\n",
    "                # apply the mask, with mean ablations\n",
    "                feature_acts = sae.mask(feature_acts, binary=binarize_mask, mean_ablation=sae.mean_ablation)\n",
    "            else:\n",
    "                # apply the mask, without mean ablations\n",
    "                feature_acts = sae.mask(feature_acts, binary=binarize_mask)\n",
    "\n",
    "        if circuit_mask is not None:\n",
    "            mask_method = circuit_mask['mask_method']\n",
    "            mask_indices = circuit_mask[sae.cfg.hook_name]\n",
    "            if mask_method == 'keep_only':\n",
    "                # any activations not in the mask are set to 0\n",
    "                expanded_circuit_mask = torch.zeros_like(feature_acts)\n",
    "                expanded_circuit_mask[:, :, mask_indices] = 1\n",
    "                feature_acts = feature_acts * expanded_circuit_mask\n",
    "            elif mask_method == 'zero_only':\n",
    "                feature_acts[:, :, mask_indices] = 0\n",
    "            else:\n",
    "                raise ValueError(f\"mask_method {mask_method} not recognized\")\n",
    "            \n",
    "        if cache_masked_activations:\n",
    "            sae.feature_acts = feature_acts.detach().clone()\n",
    "        if mean_ablate:\n",
    "            feature_acts = sae.mean_ablation\n",
    "\n",
    "        out = sae.decode(feature_acts)\n",
    "        # choose out or value based on the mask\n",
    "        mask_expanded = mask.unsqueeze(-1).expand_as(value)\n",
    "        value = torch.where(mask_expanded, out, value)\n",
    "        return value\n",
    "    return sae_hook\n",
    "\n",
    "\n",
    "    # def sae_hook_ablate(value, hook):\n",
    "    # feature_acts = sae.encode(value)\n",
    "    # # feature_acts[:, :, topsae_attr_indices] = 0\n",
    "    # out = sae.decode(feature_acts)\n",
    "    # return out\n",
    "\n",
    "\n",
    "def build_hooks_list(sequence,\n",
    "                    cache_sae_activations=False,\n",
    "                    cache_sae_grads=False,\n",
    "                    circuit_mask=None,\n",
    "                    use_mask=False,\n",
    "                    binarize_mask=False,\n",
    "                    mean_mask=False,\n",
    "                    cache_masked_activations=False,\n",
    "                    mean_ablate=False, # mean_ablate mean ablates the entire SAE regardless of the mask.\n",
    "                    ):\n",
    "    hooks = []\n",
    "    # blocks.0.hook_resid_pre\n",
    "    # # fake hook that adds zero so gradients propagate through the model\n",
    "    param = nn.Parameter(torch.tensor(0.0, requires_grad=True))\n",
    "    hooks.append(\n",
    "        (\n",
    "            \"blocks.0.hook_resid_pre\",\n",
    "            lambda value, hook: value + param,\n",
    "        )\n",
    "    )\n",
    "    for sae in saes:\n",
    "        hooks.append(\n",
    "            (\n",
    "            sae.cfg.hook_name,\n",
    "            build_sae_hook_fn(sae, sequence, cache_grads=cache_sae_grads, circuit_mask=circuit_mask, use_mask=use_mask, binarize_mask=binarize_mask, cache_masked_activations=cache_masked_activations, cache_sae_activations=cache_sae_activations, mean_mask=mean_mask, mean_ablate=mean_ablate),\n",
    "            )\n",
    "        )\n",
    "    return hooks "
   ]
  },
  {
   "cell_type": "code",
   "execution_count": 20,
   "metadata": {},
   "outputs": [],
   "source": [
    "def sanity_check_model_performance(logitfn):\n",
    "    baseline_dataset = ContrastiveDatasetBatch(json_dataset[-10:])\n",
    "    correct_logits = logitfn(baseline_dataset.correct_tokenized)\n",
    "    error_logits = logitfn(baseline_dataset.error_tokenized)\n",
    "    print(\"probability of predicting the correct age in the correct example\")\n",
    "    print(F.softmax(correct_logits[torch.arange(correct_logits.shape[0]), baseline_dataset.correct_answer_seq_idxs], dim=-1)[:, baseline_dataset.correct_token_idx].mean())\n",
    "    print(\"and of traceback in that example\")\n",
    "    print(F.softmax(correct_logits[torch.arange(correct_logits.shape[0]), baseline_dataset.correct_answer_seq_idxs], dim=-1)[:, baseline_dataset.error_token_idx].mean())\n",
    "    print(\"logit difference:\")\n",
    "    correct_logit_values = correct_logits[torch.arange(correct_logits.shape[0]), baseline_dataset.correct_answer_seq_idxs, baseline_dataset.correct_token_idx]\n",
    "    error_logit_values = correct_logits[torch.arange(correct_logits.shape[0]), baseline_dataset.correct_answer_seq_idxs, baseline_dataset.error_token_idx]\n",
    "    diff = correct_logit_values - error_logit_values\n",
    "    print(diff.mean())\n",
    "\n",
    "    print(\"probability of predicting the traceback in the error code example\")\n",
    "    print(F.softmax(error_logits[torch.arange(error_logits.shape[0]), baseline_dataset.error_answer_seq_idxs], dim=-1)[:, baseline_dataset.error_token_idx].mean())\n",
    "    print(\"and of the correct age in that example\")\n",
    "    print(F.softmax(error_logits[torch.arange(error_logits.shape[0]), baseline_dataset.error_answer_seq_idxs], dim=-1)[:, baseline_dataset.correct_token_idx].mean())    \n",
    "    print(\"logit difference:\")\n",
    "    correct_logit_values = error_logits[torch.arange(error_logits.shape[0]), baseline_dataset.error_answer_seq_idxs, baseline_dataset.error_token_idx]\n",
    "    error_logit_values = error_logits[torch.arange(error_logits.shape[0]), baseline_dataset.error_answer_seq_idxs, baseline_dataset.correct_token_idx]\n",
    "    diff = correct_logit_values - error_logit_values\n",
    "    print(diff.mean())\n"
   ]
  },
  {
   "cell_type": "code",
   "execution_count": 21,
   "metadata": {},
   "outputs": [],
   "source": [
    "def sanity_check_model_performance(logitfn):\n",
    "    baseline_dataset = ContrastiveDatasetBatch(json_dataset[-10:])\n",
    "    correct_logits = logitfn(baseline_dataset.correct_tokenized)\n",
    "    error_logits = logitfn(baseline_dataset.error_tokenized)\n",
    "    \n",
    "    # Initialize a results dictionary with shorter keys\n",
    "    results = {}\n",
    "    \n",
    "    # Compute probabilities for the correct example\n",
    "    correct_probs = F.softmax(\n",
    "        correct_logits[torch.arange(correct_logits.shape[0]), baseline_dataset.correct_answer_seq_idxs],\n",
    "        dim=-1\n",
    "    )\n",
    "    prob_correct_in_correct = correct_probs[:, baseline_dataset.correct_token_idx].mean().item()\n",
    "    prob_error_in_correct = correct_probs[:, baseline_dataset.error_token_idx].mean().item()\n",
    "    correct_logit_values = correct_logits[\n",
    "        torch.arange(correct_logits.shape[0]),\n",
    "        baseline_dataset.correct_answer_seq_idxs,\n",
    "        baseline_dataset.correct_token_idx\n",
    "    ]\n",
    "    error_logit_values = correct_logits[\n",
    "        torch.arange(correct_logits.shape[0]),\n",
    "        baseline_dataset.correct_answer_seq_idxs,\n",
    "        baseline_dataset.error_token_idx\n",
    "    ]\n",
    "    logit_diff_correct = (correct_logit_values - error_logit_values).mean().item()\n",
    "    \n",
    "    # Store results for the correct example\n",
    "    results['prob_correct_in_correct'] = prob_correct_in_correct\n",
    "    results['prob_error_in_correct'] = prob_error_in_correct\n",
    "    results['logit_diff_correct'] = logit_diff_correct\n",
    "    \n",
    "    # Compute probabilities for the error example\n",
    "    error_probs = F.softmax(\n",
    "        error_logits[torch.arange(error_logits.shape[0]), baseline_dataset.error_answer_seq_idxs],\n",
    "        dim=-1\n",
    "    )\n",
    "    prob_error_in_error = error_probs[:, baseline_dataset.error_token_idx].mean().item()\n",
    "    prob_correct_in_error = error_probs[:, baseline_dataset.correct_token_idx].mean().item()\n",
    "    correct_logit_values_error = error_logits[\n",
    "        torch.arange(error_logits.shape[0]),\n",
    "        baseline_dataset.error_answer_seq_idxs,\n",
    "        baseline_dataset.error_token_idx\n",
    "    ]\n",
    "    error_logit_values_error = error_logits[\n",
    "        torch.arange(error_logits.shape[0]),\n",
    "        baseline_dataset.error_answer_seq_idxs,\n",
    "        baseline_dataset.correct_token_idx\n",
    "    ]\n",
    "    logit_diff_error = (correct_logit_values_error - error_logit_values_error).mean().item()\n",
    "    \n",
    "    # Store results for the error example\n",
    "    results['prob_error_in_error'] = prob_error_in_error\n",
    "    results['prob_correct_in_error'] = prob_correct_in_error\n",
    "    results['logit_diff_error'] = logit_diff_error\n",
    "    \n",
    "    return results\n"
   ]
  },
  {
   "cell_type": "code",
   "execution_count": 22,
   "metadata": {},
   "outputs": [],
   "source": [
    "def all_contrastive_difference(logitfn):\n",
    "    baseline_dataset = ContrastiveDatasetBatch(json_dataset[0:10])\n",
    "    all_tokenized = baseline_dataset.all_tokenized\n",
    "    all_answer_seq_idxs = baseline_dataset.all_answer_seq_idxs\n",
    "    all_answers_tok_idxs = baseline_dataset.all_answers_tok_idxs\n",
    "    all_wrong_answers_tok_idxs = baseline_dataset.all_wrong_answers_tok_idxs\n",
    "    all_prompts = baseline_dataset.all_prompts\n",
    "    \n",
    "    all_logits = logitfn(all_tokenized)\n",
    "    all_answer_logits = all_logits[torch.arange(all_logits.shape[0]), all_answer_seq_idxs]\n",
    "    all_answers_correct_logits = all_answer_logits[torch.arange(all_answer_logits.shape[0]), all_answers_tok_idxs]\n",
    "    all_answers_wrong_logits = all_answer_logits[torch.arange(all_answer_logits.shape[0]), all_wrong_answers_tok_idxs]\n",
    "    all_logit_diffs = all_answers_correct_logits - all_answers_wrong_logits\n",
    "    # 6.7 dif for correct, 1.8 for error\n",
    "    all_logit_diffs[0:baseline_dataset.batch_size] = all_logit_diffs[0:baseline_dataset.batch_size]/6.7\n",
    "    all_logit_diffs[baseline_dataset.batch_size:] = all_logit_diffs[baseline_dataset.batch_size:]/1.8\n",
    "    return all_logit_diffs\n",
    "\n"
   ]
  },
  {
   "cell_type": "markdown",
   "metadata": {},
   "source": [
    "# SAE vs no SAE (sanity check and basic setup)"
   ]
  },
  {
   "cell_type": "code",
   "execution_count": 23,
   "metadata": {},
   "outputs": [],
   "source": [
    "baseline_dataset = ContrastiveDatasetBatch(json_dataset[10:15])"
   ]
  },
  {
   "cell_type": "code",
   "execution_count": 24,
   "metadata": {},
   "outputs": [],
   "source": [
    "def baseline_model_logit_fn(tokens):\n",
    "    correct_logits = model.run_with_hooks(\n",
    "        tokens, \n",
    "        return_type=\"logits\", \n",
    "        fwd_hooks=[\n",
    "            #(\n",
    "            #utils.get_act_name(\"pre\", 0), # v=attention out\n",
    "            #\"blocks.0.hook_mlp_out\",\n",
    "            #mlp_ablation_hook,\n",
    "            #),\n",
    "            ]\n",
    "        )\n",
    "    return correct_logits\n",
    "\n",
    "with torch.no_grad():\n",
    "    sanity_check_model_performance(baseline_model_logit_fn)"
   ]
  },
  {
   "cell_type": "code",
   "execution_count": 25,
   "metadata": {},
   "outputs": [
    {
     "data": {
      "text/plain": [
       "2"
      ]
     },
     "execution_count": 25,
     "metadata": {},
     "output_type": "execute_result"
    }
   ],
   "source": [
    "pad_token_id\n",
    "bos_token_id = model.tokenizer.bos_token_id\n",
    "bos_token_id"
   ]
  },
  {
   "cell_type": "code",
   "execution_count": 26,
   "metadata": {},
   "outputs": [],
   "source": [
    "with torch.no_grad():\n",
    "    def logitfn(tokens):\n",
    "        return model.run_with_hooks(\n",
    "            tokens, \n",
    "            return_type=\"logits\", \n",
    "            fwd_hooks=build_hooks_list(tokens)\n",
    "            )\n",
    "    sanity_check_model_performance(logitfn)"
   ]
  },
  {
   "cell_type": "code",
   "execution_count": 27,
   "metadata": {},
   "outputs": [],
   "source": [
    "with torch.no_grad():\n",
    "    def logitfn(tokens):\n",
    "        return model.run_with_hooks(\n",
    "            tokens, \n",
    "            return_type=\"logits\", \n",
    "            fwd_hooks=build_hooks_list(tokens)\n",
    "            )\n",
    "    logits = logitfn(baseline_dataset.error_tokenized)"
   ]
  },
  {
   "cell_type": "code",
   "execution_count": 28,
   "metadata": {},
   "outputs": [
    {
     "name": "stdout",
     "output_type": "stream",
     "text": [
      "['>>>', 'Traceback', 'print']\n",
      "tensor([25.8636, 25.4394, 24.8588], device='cuda:0')\n"
     ]
    },
    {
     "data": {
      "text/plain": [
       "tensor(24.1308, device='cuda:0')"
      ]
     },
     "execution_count": 28,
     "metadata": {},
     "output_type": "execute_result"
    }
   ],
   "source": [
    "test_idx = 4\n",
    "topk = torch.topk(logits[:, -1, :][test_idx], k=3)\n",
    "print(model.to_str_tokens(topk.indices))\n",
    "print(topk.values)\n",
    "logits[:, -1, :][test_idx][baseline_dataset.correct_token_idx]"
   ]
  },
  {
   "cell_type": "markdown",
   "metadata": {},
   "source": [
    "# Contrastive Logit Diff With Positive and Negative"
   ]
  },
  {
   "cell_type": "code",
   "execution_count": 29,
   "metadata": {},
   "outputs": [
    {
     "name": "stdout",
     "output_type": "stream",
     "text": [
      "tensor([1.0415, 0.9522, 1.0375, 1.1017, 1.0306, 1.0303, 1.0525, 0.9940, 1.1501,\n",
      "        0.9840, 0.8197, 1.1012, 1.5776, 0.9999, 1.5780, 0.8209, 0.8822, 1.0724,\n",
      "        1.4219, 1.0966], device='cuda:0')\n"
     ]
    }
   ],
   "source": [
    "with torch.no_grad():\n",
    "    def logitfn(tokens):\n",
    "        return model.run_with_hooks(\n",
    "            tokens, \n",
    "            return_type=\"logits\", \n",
    "            fwd_hooks=build_hooks_list(tokens)\n",
    "            )\n",
    "    all_logit_diffs = all_contrastive_difference(logitfn)\n",
    "    print(all_logit_diffs)"
   ]
  },
  {
   "cell_type": "markdown",
   "metadata": {},
   "source": [
    "# Attribution"
   ]
  },
  {
   "cell_type": "code",
   "execution_count": 30,
   "metadata": {},
   "outputs": [],
   "source": [
    "def logitfn(tokens):\n",
    "    return model.run_with_hooks(\n",
    "        tokens, \n",
    "        return_type=\"logits\", \n",
    "        fwd_hooks=build_hooks_list(tokens, cache_sae_grads=True)\n",
    "        )\n",
    "\n",
    "all_logit_diffs = all_contrastive_difference(logitfn)"
   ]
  },
  {
   "cell_type": "code",
   "execution_count": 31,
   "metadata": {},
   "outputs": [],
   "source": [
    "loss = all_logit_diffs.sum() * -1 # maximize the difference"
   ]
  },
  {
   "cell_type": "code",
   "execution_count": 32,
   "metadata": {},
   "outputs": [],
   "source": [
    "loss.backward()"
   ]
  },
  {
   "cell_type": "code",
   "execution_count": 33,
   "metadata": {},
   "outputs": [
    {
     "data": {
      "text/plain": [
       "tensor(-21.7448, device='cuda:0', grad_fn=<MulBackward0>)"
      ]
     },
     "execution_count": 33,
     "metadata": {},
     "output_type": "execute_result"
    }
   ],
   "source": [
    "loss"
   ]
  },
  {
   "cell_type": "code",
   "execution_count": 34,
   "metadata": {},
   "outputs": [],
   "source": [
    "no_ablate = {\"mask_method\": \"keep_only\"}"
   ]
  },
  {
   "cell_type": "code",
   "execution_count": 35,
   "metadata": {},
   "outputs": [],
   "source": [
    "num_features = saes[0].cfg.d_sae"
   ]
  },
  {
   "cell_type": "code",
   "execution_count": 36,
   "metadata": {},
   "outputs": [],
   "source": [
    "with torch.no_grad():\n",
    "    for sae in saes:\n",
    "        delta_loss = torch.abs((sae.feature_acts.grad * sae.feature_acts).view(-1, sae.feature_acts.shape[-1]).sum(dim=0))\n",
    "        topk = torch.topk(delta_loss, k=63)\n",
    "        no_ablate[sae.cfg.hook_name] = topk.indices"
   ]
  },
  {
   "cell_type": "code",
   "execution_count": 37,
   "metadata": {},
   "outputs": [],
   "source": [
    "import random\n",
    "# deep copy\n",
    "import copy\n",
    "random_ablate = copy.deepcopy(no_ablate)\n",
    "\n",
    "num_features = saes[0].cfg.d_sae\n",
    "\n",
    "for key in random_ablate.keys():\n",
    "    if key == \"mask_method\":\n",
    "        continue\n",
    "#     for i in range(len(random_ablate[key])):\n",
    "#         random_ablate[key][i] = random.randint(0, num_features-1)\n",
    "# random_ablate"
   ]
  },
  {
   "cell_type": "code",
   "execution_count": 38,
   "metadata": {},
   "outputs": [],
   "source": [
    "# test the ablation\n",
    "    \n",
    "with torch.no_grad():\n",
    "    def logitfn(tokens):\n",
    "        return model.run_with_hooks(\n",
    "            tokens, \n",
    "            return_type=\"logits\", \n",
    "            fwd_hooks=build_hooks_list(\n",
    "                tokens,\n",
    "                cache_sae_grads=False,\n",
    "                circuit_mask=no_ablate)\n",
    "            )\n",
    "    \n",
    "    all_logit_diffs = sanity_check_model_performance(logitfn)\n",
    "    #all_logit_diffs = san(logitfn).mean()\n",
    "    # print(all_logit_diffs)"
   ]
  },
  {
   "cell_type": "markdown",
   "metadata": {},
   "source": [
    "# Collect SAE Means"
   ]
  },
  {
   "cell_type": "code",
   "execution_count": 39,
   "metadata": {},
   "outputs": [],
   "source": [
    "# for each SAE create a sae_dim float32 with mean latent activation over subset of datset\n",
    "batch_size = 16\n",
    "num_batches = 10\n",
    "num_features = saes[0].cfg.d_sae"
   ]
  },
  {
   "cell_type": "code",
   "execution_count": 58,
   "metadata": {},
   "outputs": [
    {
     "name": "stderr",
     "output_type": "stream",
     "text": [
      "Mean Accum Progress: 801it [01:59,  6.68it/s]                         \n"
     ]
    }
   ],
   "source": [
    "def logitfn(tokens):\n",
    "    return model.run_with_hooks(\n",
    "        tokens, \n",
    "        return_type=\"logits\", \n",
    "        fwd_hooks=build_hooks_list(tokens, cache_sae_activations=True)\n",
    "        )\n",
    "\n",
    "def running_mean_tensor(old_mean, new_value, n):\n",
    "    return old_mean + (new_value - old_mean) / n\n",
    "\n",
    "# # test running mean tensor\n",
    "# test_data = torch.arange(3).float()\n",
    "# test_data\n",
    "\n",
    "# data_examples = []\n",
    "# for i in range(30):\n",
    "#     # add noise to the data\n",
    "#     data_examples.append(test_data + torch.randn_like(test_data)*0.1)\n",
    "\n",
    "# running_mean = torch.zeros_like(test_data)\n",
    "# for i, data in enumerate(data_examples):\n",
    "#     running_mean = running_mean_tensor(running_mean, data, i+1)\n",
    "#     print(running_mean)\n",
    "\n",
    "tok1 = traceback_token\n",
    "tok2 = answer_token\n",
    "\n",
    "\n",
    "all_fwd_passes = []\n",
    "def get_sae_means(total_steps, per_token_mask=False, keep_only='none'):\n",
    "    all_optimized_params = []\n",
    "    for sae in saes:\n",
    "        sae.mean_ablation = torch.zeros(sae.cfg.d_sae).float()\n",
    "    \n",
    "    with tqdm.tqdm(total=total_steps, desc=\"Mean Accum Progress\") as pbar:\n",
    "        for i, (x, y) in enumerate(zip(simple_dataset, simple_labels)):\n",
    "            if keep_only == 'traceback' and y != traceback_token:\n",
    "                continue\n",
    "            if keep_only == 'correct' and y != answer_token:\n",
    "                continue\n",
    "\n",
    "            with torch.no_grad():\n",
    "                logits = logitfn(x)\n",
    "                for sae in saes:\n",
    "                    sae.mean_ablation = running_mean_tensor(sae.mean_ablation, sae.feature_acts, i+1)\n",
    "            pbar.update(1)\n",
    "\n",
    "            if i >= total_steps:\n",
    "                break\n",
    "\n",
    "get_sae_means(50*16, keep_only='none')\n",
    "\n",
    "\n",
    "# # this won't work anymore b/c I removed mean_ablate\n",
    "# def mean_ablated_logitfn(tokens):\n",
    "#     return model.run_with_hooks(\n",
    "#         tokens, \n",
    "#         return_type=\"logits\", \n",
    "#         fwd_hooks=build_hooks_list(tokens, mean_ablate=True)\n",
    "#         )\n",
    "\n",
    "# # all_contrastive_difference\n",
    "# sanity_check_model_performance(mean_ablated_logitfn)"
   ]
  },
  {
   "cell_type": "code",
   "execution_count": 44,
   "metadata": {},
   "outputs": [],
   "source": [
    "for sae in saes:\n",
    "    sae.mean_ablation = sae.mean_ablation.squeeze()"
   ]
  },
  {
   "cell_type": "markdown",
   "metadata": {},
   "source": [
    "### Jatin's code for mean ablation"
   ]
  },
  {
   "cell_type": "code",
   "execution_count": 60,
   "metadata": {},
   "outputs": [
    {
     "name": "stderr",
     "output_type": "stream",
     "text": [
      "Mean Accum Progress: 51it [00:38,  1.33it/s]                        \n"
     ]
    }
   ],
   "source": [
    "clean_dataset = []\n",
    "corr_dataset = []\n",
    "clean_labels = []\n",
    "corr_labels = []\n",
    "\n",
    "answer_token = model.to_single_token(\"1\")\n",
    "traceback_token = model.to_single_token(\"Traceback\")\n",
    "\n",
    "for item in json_dataset:\n",
    "    clean_dataset.append(item[\"error\"][\"prompt\"])\n",
    "    corr_dataset.append(item[\"correct\"][\"prompt\"])\n",
    "    clean_labels.append(traceback_token)\n",
    "    corr_labels.append(answer_token)\n",
    "\n",
    "\n",
    "clean_tok_dataset = model.to_tokens(clean_dataset)\n",
    "clean_labels = torch.tensor(clean_labels)\n",
    "\n",
    "corr_tok_dataset = model.to_tokens(corr_dataset)\n",
    "corr_labels = torch.tensor(corr_labels)\n",
    "\n",
    "permutation = torch.randperm(len(clean_tok_dataset))\n",
    "clean_tok_dataset = clean_tok_dataset[permutation]\n",
    "clean_labels = clean_labels[permutation]\n",
    "\n",
    "corr_tok_dataset = corr_tok_dataset[permutation]\n",
    "corr_labels = corr_labels[permutation]\n",
    "\n",
    "\n",
    "\n",
    "from tqdm import tqdm\n",
    "def running_mean_tensor(old_mean, new_value, n):\n",
    "    \"\"\"Update the running mean tensor using the current batch.\"\"\"\n",
    "    return old_mean + (new_value - old_mean) / n\n",
    "def get_sae_means(saes, dataset, total_steps, batch_size=16):\n",
    "    \"\"\"\n",
    "    Compute token-level means across the dataset in a batched manner.\n",
    "    Args:\n",
    "        dataset (Tensor): The input dataset of tokenized data.\n",
    "        total_steps (int): Number of steps to process.\n",
    "        batch_size (int): Number of examples per batch.\n",
    "    \"\"\"\n",
    "    for sae in saes:\n",
    "        # Initialize mean_ablation with correct shape\n",
    "        sae.mean_ablation = torch.zeros((dataset[0].shape[0], sae.cfg.d_sae)).float().to(device)\n",
    "    total_samples = len(dataset)\n",
    "    num_batches = (total_samples + batch_size - 1) // batch_size  # Calculate number of batches\n",
    "    with tqdm(total=min(total_steps, num_batches), desc=\"Mean Accum Progress\") as pbar:\n",
    "        sample_count = 0  # To track total number of samples processed\n",
    "        for i in range(0, total_samples, batch_size):\n",
    "            # Batch selection\n",
    "            batch_x = dataset[i:i+batch_size]\n",
    "            with torch.no_grad():\n",
    "                logits = logitfn(batch_x)  # Get logits (forward pass)\n",
    "                for sae in saes:\n",
    "                    # Compute batch mean over tokens\n",
    "                    batch_mean = sae.feature_acts.mean(dim=0)  # Mean across the batch\n",
    "                    sample_count +=  1 # len(batch_x)  # Update sample count\n",
    "                    # Update running mean tensor\n",
    "                    sae.mean_ablation = running_mean_tensor(\n",
    "                        sae.mean_ablation,\n",
    "                        batch_mean,\n",
    "                        sample_count\n",
    "                    )\n",
    "            pbar.update(1)  # Update progress bar\n",
    "            # Stop if we've processed enough steps\n",
    "            if i // batch_size >= total_steps:\n",
    "                break\n",
    "\n",
    "get_sae_means(saes, corr_tok_dataset, 50, batch_size=16)"
   ]
  },
  {
   "cell_type": "code",
   "execution_count": 52,
   "metadata": {},
   "outputs": [
    {
     "data": {
      "text/plain": [
       "torch.Size([1, 65, 16384])"
      ]
     },
     "execution_count": 52,
     "metadata": {},
     "output_type": "execute_result"
    }
   ],
   "source": [
    "saes[0].mean_ablation.shape"
   ]
  },
  {
   "cell_type": "code",
   "execution_count": null,
   "metadata": {},
   "outputs": [
    {
     "data": {
      "text/plain": [
       "{'prob_correct_in_correct': 0.9518125653266907,\n",
       " 'prob_error_in_correct': 0.00013982107338961214,\n",
       " 'logit_diff_correct': 8.825759887695312,\n",
       " 'prob_error_in_error': 0.00013982107338961214,\n",
       " 'prob_correct_in_error': 0.9518125653266907,\n",
       " 'logit_diff_error': -8.825759887695312}"
      ]
     },
     "execution_count": 61,
     "metadata": {},
     "output_type": "execute_result"
    }
   ],
   "source": [
    "# NOTE: If you run the rest of the code it adds a batch dim to this data, and this code is screwed\n",
    "def mean_ablated_logitfn(tokens):\n",
    "    return model.run_with_hooks(\n",
    "        tokens, \n",
    "        return_type=\"logits\", \n",
    "        fwd_hooks=build_hooks_list(tokens, mean_ablate=True)\n",
    "        )\n",
    "\n",
    "# all_contrastive_difference\n",
    "sanity_check_model_performance(mean_ablated_logitfn)"
   ]
  },
  {
   "cell_type": "markdown",
   "metadata": {},
   "source": [
    "# Optimize Binary Mask"
   ]
  },
  {
   "cell_type": "code",
   "execution_count": 87,
   "metadata": {},
   "outputs": [],
   "source": [
    "batch_size = 16\n",
    "\n",
    "# makethe length of the dataset a multiple of the batch size\n",
    "simple_dataset = simple_dataset[:batch_size*(len(simple_dataset)//batch_size)]\n",
    "simple_labels = simple_labels[:batch_size*(len(simple_labels)//batch_size)]\n",
    "\n",
    "simple_dataset = simple_dataset.view(-1, batch_size, 65)\n",
    "simple_labels = simple_labels.view(-1, batch_size)\n"
   ]
  },
  {
   "cell_type": "code",
   "execution_count": 88,
   "metadata": {},
   "outputs": [],
   "source": [
    "def logitfn(tokens):\n",
    "    return model.run_with_hooks(\n",
    "        tokens, \n",
    "        return_type=\"logits\", \n",
    "        fwd_hooks=build_hooks_list(tokens, use_mask=True, mean_mask=True)\n",
    "        )\n",
    "\n",
    "\n",
    "def forward_pass(batch, labels, logitfn, ratio_trained=1):\n",
    "    for sae in saes:\n",
    "        sae.mask.ratio_trained = ratio_trained\n",
    "    tokens = batch\n",
    "    logits = logitfn(tokens)\n",
    "    last_token_logits = logits[:, -1, :]\n",
    "    loss = F.cross_entropy(last_token_logits, labels)\n",
    "    sparsity_loss = 0\n",
    "    for sae in saes:\n",
    "        sparsity_loss = sparsity_loss + sae.mask.sparsity_loss\n",
    "    \n",
    "    sparsity_loss = sparsity_loss / len(saes)\n",
    "\n",
    "    return loss, sparsity_loss"
   ]
  },
  {
   "cell_type": "code",
   "execution_count": 89,
   "metadata": {},
   "outputs": [],
   "source": [
    "\n",
    "import wandb\n",
    "from tqdm import tqdm\n",
    "\n",
    "\n",
    "\n",
    "\n",
    "def do_training_run(sparsity_multiplier, per_token_mask=False, use_mask=False, mean_mask=False):\n",
    "\n",
    "    def logitfn(tokens):\n",
    "        return model.run_with_hooks(\n",
    "            tokens, \n",
    "            return_type=\"logits\", \n",
    "            fwd_hooks=build_hooks_list(tokens, use_mask=use_mask, mean_mask=mean_mask)\n",
    "            )\n",
    "\n",
    "    def forward_pass(batch, labels, logitfn, ratio_trained=1):\n",
    "        for sae in saes:\n",
    "            sae.mask.ratio_trained = ratio_trained\n",
    "        tokens = batch\n",
    "        logits = logitfn(tokens)\n",
    "        last_token_logits = logits[:, -1, :]\n",
    "        loss = F.cross_entropy(last_token_logits, labels)\n",
    "        sparsity_loss = 0\n",
    "        for sae in saes:\n",
    "            sparsity_loss = sparsity_loss + sae.mask.sparsity_loss\n",
    "        \n",
    "        sparsity_loss = sparsity_loss / len(saes)\n",
    "\n",
    "        return loss, sparsity_loss\n",
    "\n",
    "    print(\"doing a run with sparsity multiplier\", sparsity_multiplier)\n",
    "    all_optimized_params = []\n",
    "    config = {\n",
    "        \"batch_size\": 16,\n",
    "        \"learning_rate\": 0.05,\n",
    "        \"total_steps\": simple_dataset.shape[0]*0.01,\n",
    "        \"sparsity_multiplier\": sparsity_multiplier\n",
    "    }\n",
    "\n",
    "    for sae in saes:\n",
    "        if per_token_mask:\n",
    "            sae.mask = SparseMask(sae.cfg.d_sae, 1.0, seq_len=65)\n",
    "        else:\n",
    "            sae.mask = SparseMask(sae.cfg.d_sae, 1.0)\n",
    "        all_optimized_params.extend(list(sae.mask.parameters()))\n",
    "        sae.mask.max_temp = torch.tensor(200.0)\n",
    "    \n",
    "    wandb.init(project=\"sae circuits\", config=config)\n",
    "    optimizer = optim.Adam(all_optimized_params, lr=config[\"learning_rate\"])\n",
    "    total_steps = config[\"total_steps\"]\n",
    "\n",
    "    with tqdm(total=total_steps, desc=\"Training Progress\") as pbar:\n",
    "        for i, (x, y) in enumerate(zip(simple_dataset, simple_labels)):\n",
    "            with KeyboardInterruptBlocker():\n",
    "                optimizer.zero_grad()\n",
    "                \n",
    "                # Calculate ratio trained\n",
    "                ratio_trained = i / total_steps\n",
    "                \n",
    "                # Update mask ratio for each SAE\n",
    "                for sae in saes:\n",
    "                    sae.mask.ratio_trained = ratio_trained\n",
    "                \n",
    "                # Forward pass with updated ratio_trained\n",
    "                loss, sparsity_loss = forward_pass(x, y, logitfn, ratio_trained=ratio_trained)\n",
    "                if per_token_mask:\n",
    "                    sparsity_loss = sparsity_loss / 65\n",
    "\n",
    "                avg_nonzero_elements = sparsity_loss\n",
    "                    \n",
    "                sparsity_loss = sparsity_loss * config[\"sparsity_multiplier\"]\n",
    "                total_loss = loss + sparsity_loss\n",
    "                infodict  = {\"Step\": i, \"Progress\": ratio_trained, \"Avg Nonzero Elements\": avg_nonzero_elements.item(), \"Task Loss\": loss.item(), \"Sparsity Loss\": sparsity_loss.item(), \"temperature\": saes[0].mask.temperature}\n",
    "                wandb.log(infodict)\n",
    "                \n",
    "                # Backward pass and optimizer step\n",
    "                total_loss.backward()\n",
    "                optimizer.step()\n",
    "                \n",
    "                # Update tqdm bar with relevant metrics\n",
    "                pbar.set_postfix(infodict)\n",
    "                \n",
    "                # Update the tqdm progress bar\n",
    "                pbar.update(1)\n",
    "                if i >= total_steps*1.3:\n",
    "                    break\n",
    "    wandb.finish()\n",
    "\n",
    "    optimizer.zero_grad()\n",
    "\n",
    "    for sae in saes:\n",
    "        for param in sae.parameters():\n",
    "            param.grad = None\n",
    "        for param in sae.mask.parameters():\n",
    "            param.grad = None\n",
    "    \n",
    "    for param in model.parameters():\n",
    "        param.grad = None\n",
    "\n",
    "    torch.cuda.empty_cache()\n",
    "\n",
    "    mask_dict = {}\n",
    "\n",
    "    total_density = 0\n",
    "    for sae in saes:\n",
    "        mask_dict[sae.cfg.hook_name] = torch.where(torch.sigmoid(sae.mask.mask*10000))[0].tolist()\n",
    "        total_density += torch.sigmoid(sae.mask.mask*10000).sum().item()\n",
    "    mask_dict[\"total_density\"] = total_density\n",
    "    mask_dict['avg_density'] = total_density / len(saes)\n",
    "    print(mask_dict['avg_density'])\n",
    "\n",
    "    ### EVAL ###\n",
    "    def masked_logit_fn(tokens):\n",
    "        return model.run_with_hooks(\n",
    "            tokens, \n",
    "            return_type=\"logits\", \n",
    "            fwd_hooks=build_hooks_list(tokens, use_mask=use_mask, mean_mask=mean_mask, binarize_mask=True)\n",
    "            )\n",
    "\n",
    "    def eval_ce_loss(batch, labels, logitfn, ratio_trained=10):\n",
    "        for sae in saes:\n",
    "            sae.mask.ratio_trained = ratio_trained\n",
    "        tokens = batch\n",
    "        logits = logitfn(tokens)\n",
    "        last_token_logits = logits[:, -1, :]\n",
    "        loss = F.cross_entropy(last_token_logits, labels)\n",
    "\n",
    "        # sparsity_loss = 0\n",
    "        # for sae in saes:\n",
    "        #     sparsity_loss = sparsity_loss + sae.mask.sparsity_loss\n",
    "        \n",
    "        # sparsity_loss = sparsity_loss / len(saes)\n",
    "\n",
    "        return loss\n",
    "\n",
    "    with torch.no_grad():\n",
    "        loss = eval_ce_loss(simple_dataset[-1], simple_labels[-1], masked_logit_fn)\n",
    "        print(\"CE loss:\", loss)\n",
    "\n",
    "    mask_dict['ce_loss'] = loss.item()\n",
    "\n",
    "\n",
    "    json.dump(mask_dict, open(f\"{str(sparsity_multiplier)}_run.json\", \"w\"))\n",
    "    \n",
    "    "
   ]
  },
  {
   "cell_type": "code",
   "execution_count": 90,
   "metadata": {},
   "outputs": [
    {
     "name": "stdout",
     "output_type": "stream",
     "text": [
      "CE loss: tensor(18.4099, device='cuda:0')\n"
     ]
    }
   ],
   "source": [
    "def masked_logit_fn(tokens):\n",
    "    return model.run_with_hooks(\n",
    "        tokens, \n",
    "        return_type=\"logits\", \n",
    "        fwd_hooks=build_hooks_list(tokens, use_mask=True, mean_mask=True, binarize_mask=True)\n",
    "        )\n",
    "\n",
    "def eval_ce_loss(batch, labels, logitfn, ratio_trained=10):\n",
    "    for sae in saes:\n",
    "        sae.mask.ratio_trained = ratio_trained\n",
    "    tokens = batch\n",
    "    logits = logitfn(tokens)\n",
    "    last_token_logits = logits[:, -1, :]\n",
    "    loss = F.cross_entropy(last_token_logits, labels)\n",
    "\n",
    "    # sparsity_loss = 0\n",
    "    # for sae in saes:\n",
    "    #     sparsity_loss = sparsity_loss + sae.mask.sparsity_loss\n",
    "    \n",
    "    # sparsity_loss = sparsity_loss / len(saes)\n",
    "\n",
    "    return loss\n",
    "\n",
    "with torch.no_grad():\n",
    "    loss = eval_ce_loss(simple_dataset[30], simple_labels[30], masked_logit_fn)\n",
    "    print(\"CE loss:\", loss)\n",
    "\n"
   ]
  },
  {
   "cell_type": "code",
   "execution_count": 91,
   "metadata": {},
   "outputs": [
    {
     "name": "stderr",
     "output_type": "stream",
     "text": [
      "\u001b[34m\u001b[1mwandb\u001b[0m: Currently logged in as: \u001b[33mjcaples4\u001b[0m (\u001b[33mllm-research-activated\u001b[0m). Use \u001b[1m`wandb login --relogin`\u001b[0m to force relogin\n"
     ]
    },
    {
     "name": "stdout",
     "output_type": "stream",
     "text": [
      "doing a run with sparsity multiplier 0.025\n"
     ]
    },
    {
     "data": {
      "text/html": [
       "Tracking run with wandb version 0.19.0"
      ],
      "text/plain": [
       "<IPython.core.display.HTML object>"
      ]
     },
     "metadata": {},
     "output_type": "display_data"
    },
    {
     "data": {
      "text/html": [
       "Run data is saved locally in <code>/workspace/lowrank/wandb/run-20241208_231121-kvogk8cf</code>"
      ],
      "text/plain": [
       "<IPython.core.display.HTML object>"
      ]
     },
     "metadata": {},
     "output_type": "display_data"
    },
    {
     "data": {
      "text/html": [
       "Syncing run <strong><a href='https://wandb.ai/llm-research-activated/sae%20circuits/runs/kvogk8cf' target=\"_blank\">copper-wave-68</a></strong> to <a href='https://wandb.ai/llm-research-activated/sae%20circuits' target=\"_blank\">Weights & Biases</a> (<a href='https://wandb.me/developer-guide' target=\"_blank\">docs</a>)<br/>"
      ],
      "text/plain": [
       "<IPython.core.display.HTML object>"
      ]
     },
     "metadata": {},
     "output_type": "display_data"
    },
    {
     "data": {
      "text/html": [
       " View project at <a href='https://wandb.ai/llm-research-activated/sae%20circuits' target=\"_blank\">https://wandb.ai/llm-research-activated/sae%20circuits</a>"
      ],
      "text/plain": [
       "<IPython.core.display.HTML object>"
      ]
     },
     "metadata": {},
     "output_type": "display_data"
    },
    {
     "data": {
      "text/html": [
       " View run at <a href='https://wandb.ai/llm-research-activated/sae%20circuits/runs/kvogk8cf' target=\"_blank\">https://wandb.ai/llm-research-activated/sae%20circuits/runs/kvogk8cf</a>"
      ],
      "text/plain": [
       "<IPython.core.display.HTML object>"
      ]
     },
     "metadata": {},
     "output_type": "display_data"
    },
    {
     "name": "stderr",
     "output_type": "stream",
     "text": [
      "Training Progress:  99%|█████████▉| 124/124.96000000000001 [03:29<00:01,  1.69s/it, Step=124, Progress=0.992, Avg Nonzero Elements=117, Task Loss=0.503, Sparsity Loss=2.92, temperature=tensor(192.0226, device='cuda:0')]/usr/local/lib/python3.10/dist-packages/tqdm/std.py:636: TqdmWarning: clamping frac to range [0, 1]\n",
      "  full_bar = Bar(frac,\n",
      "Training Progress: 164it [04:34,  1.68s/it, Step=163, Progress=1.3, Avg Nonzero Elements=117, Task Loss=0.589, Sparsity Loss=2.92, temperature=tensor(1003.4679, device='cuda:0')]                                         \n"
     ]
    },
    {
     "data": {
      "text/html": [
       "\n",
       "    <style>\n",
       "        .wandb-row {\n",
       "            display: flex;\n",
       "            flex-direction: row;\n",
       "            flex-wrap: wrap;\n",
       "            justify-content: flex-start;\n",
       "            width: 100%;\n",
       "        }\n",
       "        .wandb-col {\n",
       "            display: flex;\n",
       "            flex-direction: column;\n",
       "            flex-basis: 100%;\n",
       "            flex: 1;\n",
       "            padding: 10px;\n",
       "        }\n",
       "    </style>\n",
       "<div class=\"wandb-row\"><div class=\"wandb-col\"><h3>Run history:</h3><br/><table class=\"wandb\"><tr><td>Avg Nonzero Elements</td><td>██▇▇▇▆▆▅▄▂▁▁▁▁▁▁▁▁▁▁▁▁▁▁▁▁▁▁▁▁▁▁▁▁▁▁▁▁▁▁</td></tr><tr><td>Progress</td><td>▁▁▁▁▁▂▂▂▂▂▂▂▂▂▃▃▃▃▃▃▄▅▅▅▅▅▅▆▆▆▆▆▆▇▇▇▇███</td></tr><tr><td>Sparsity Loss</td><td>█████▆▃▃▂▁▁▁▁▁▁▁▁▁▁▁▁▁▁▁▁▁▁▁▁▁▁▁▁▁▁▁▁▁▁▁</td></tr><tr><td>Step</td><td>▁▁▂▂▂▂▂▂▂▂▃▃▃▃▃▃▃▄▄▄▄▄▄▄▄▅▅▅▅▅▆▆▇▇▇▇████</td></tr><tr><td>Task Loss</td><td>█▄▃▃▃▂▁▁▁▁▁▁▁▁▁▁▁▁▁▁▁▁▁▁▁▁▁▁▁▁▁▁▁▁▁▁▁▁▁▁</td></tr><tr><td>temperature</td><td>▁▁▁▁▁▁▁▁▁▁▁▁▁▁▁▁▁▁▁▁▁▁▁▁▁▂▂▂▂▂▂▂▃▃▄▅▅▆▆█</td></tr></table><br/></div><div class=\"wandb-col\"><h3>Run summary:</h3><br/><table class=\"wandb\"><tr><td>Avg Nonzero Elements</td><td>116.75</td></tr><tr><td>Progress</td><td>1.30442</td></tr><tr><td>Sparsity Loss</td><td>2.91875</td></tr><tr><td>Step</td><td>163</td></tr><tr><td>Task Loss</td><td>0.5887</td></tr><tr><td>temperature</td><td>1003.4679</td></tr></table><br/></div></div>"
      ],
      "text/plain": [
       "<IPython.core.display.HTML object>"
      ]
     },
     "metadata": {},
     "output_type": "display_data"
    },
    {
     "data": {
      "text/html": [
       " View run <strong style=\"color:#cdcd00\">copper-wave-68</strong> at: <a href='https://wandb.ai/llm-research-activated/sae%20circuits/runs/kvogk8cf' target=\"_blank\">https://wandb.ai/llm-research-activated/sae%20circuits/runs/kvogk8cf</a><br/> View project at: <a href='https://wandb.ai/llm-research-activated/sae%20circuits' target=\"_blank\">https://wandb.ai/llm-research-activated/sae%20circuits</a><br/>Synced 5 W&B file(s), 0 media file(s), 0 artifact file(s) and 0 other file(s)"
      ],
      "text/plain": [
       "<IPython.core.display.HTML object>"
      ]
     },
     "metadata": {},
     "output_type": "display_data"
    },
    {
     "data": {
      "text/html": [
       "Find logs at: <code>./wandb/run-20241208_231121-kvogk8cf/logs</code>"
      ],
      "text/plain": [
       "<IPython.core.display.HTML object>"
      ]
     },
     "metadata": {},
     "output_type": "display_data"
    },
    {
     "name": "stdout",
     "output_type": "stream",
     "text": [
      "116.75\n",
      "CE loss: tensor(0.5731, device='cuda:0')\n"
     ]
    }
   ],
   "source": [
    "do_training_run(0.025, per_token_mask=False, use_mask=True, mean_mask=True)"
   ]
  },
  {
   "cell_type": "code",
   "execution_count": 92,
   "metadata": {},
   "outputs": [
    {
     "name": "stdout",
     "output_type": "stream",
     "text": [
      "original example\n",
      "<bos>Type \"help\", \"copyright\", \"credits\" or \"license\" for more information.\n",
      ">>> age = {'Liam': 17, 'Emily': 17, 'Mia': 17, 'Sophia': 17, 'Ethan': 11}\n",
      ">>> age[\"Liam\"]\n",
      "\n",
      "original label\n",
      "1\n",
      "torch.Size([256000])\n",
      "torch.Size([256000])\n",
      "['1', 'Traceback', '>>>']\n",
      "tensor([0.6384, 0.2210, 0.0217], device='cuda:0')\n",
      "ce loss 0.44883954524993896\n"
     ]
    }
   ],
   "source": [
    "def logitfn(tokens):\n",
    "    return model.run_with_hooks(\n",
    "        tokens, \n",
    "        return_type=\"logits\", \n",
    "        fwd_hooks=build_hooks_list(tokens, use_mask=True, mean_mask=True, binarize_mask=True)\n",
    "        )\n",
    "\n",
    "# def forward_pass(batch, labels, logitfn, ratio_trained=1):\n",
    "#     for sae in saes:\n",
    "#         sae.mask.ratio_trained = ratio_trained\n",
    "#     tokens = batch\n",
    "#     logits = logitfn(tokens)\n",
    "#     last_token_logits = logits[:, -1, :]\n",
    "#     loss = F.cross_entropy(last_token_logits, labels)\n",
    "#     sparsity_loss = 0\n",
    "#     for sae in saes:\n",
    "#         sparsity_loss = sparsity_loss + sae.mask.sparsity_loss\n",
    "    \n",
    "#     sparsity_loss = sparsity_loss / len(saes)\n",
    "\n",
    "    return loss, sparsity_loss\n",
    "with torch.no_grad():\n",
    "    idx = 4\n",
    "    print(\"original example\")\n",
    "    print(f\"{model.to_string(simple_dataset[-1][idx])}\")\n",
    "    print(\"original label\")\n",
    "    print(model.to_string(simple_labels[-1][idx:idx+1]))\n",
    "    logits = logitfn(simple_dataset[-1][idx:idx+1][-1])[-1][-1]\n",
    "    print(logits.shape)\n",
    "    probs = F.softmax(logits, dim=-1)\n",
    "    print(probs.shape)\n",
    "    # get the top 3 tokens and their probabilities\n",
    "    topk = torch.topk(probs, k=3)\n",
    "    print(model.to_str_tokens(topk.indices))\n",
    "    print(topk.values)\n",
    "    # get the cross entropy loss\n",
    "    loss = F.cross_entropy(logits.unsqueeze(0), simple_labels[-1][idx:idx+1])\n",
    "    print(f\"ce loss {loss}\")\n"
   ]
  },
  {
   "cell_type": "code",
   "execution_count": null,
   "metadata": {},
   "outputs": [],
   "source": []
  },
  {
   "cell_type": "code",
   "execution_count": null,
   "metadata": {},
   "outputs": [
    {
     "name": "stdout",
     "output_type": "stream",
     "text": [
      "tensor(4, device='cuda:0')\n",
      "Token 0: <bos> 0\n",
      "Token 1: Type 0\n",
      "Token 2:  \" 0\n",
      "Token 3: help 0\n",
      "Token 4: \", 0\n",
      "Token 5:  \" 0\n",
      "Token 6: copyright 0\n",
      "Token 7: \", 0\n",
      "Token 8:  \" 0\n",
      "Token 9: credits 0\n",
      "Token 10: \" 0\n",
      "Token 11:  or 0\n",
      "Token 12:  \" 0\n",
      "Token 13: license 0\n",
      "Token 14: \" 0\n",
      "Token 15:  for 0\n",
      "Token 16:  more 0\n",
      "Token 17:  information 0\n",
      "Token 18: . 0\n",
      "Token 19: \n",
      " 0\n",
      "Token 20: >>> 0\n",
      "Token 21:  age 0\n",
      "Token 22:  = 0\n",
      "Token 23:  {' 0\n",
      "Token 24: Olivia 0\n",
      "Token 25: ': 0\n",
      "Token 26:   0\n",
      "Token 27: 1 0\n",
      "Token 28: 8 0\n",
      "Token 29: , 0\n",
      "Token 30:  ' 0\n",
      "Token 31: Sophia 0\n",
      "Token 32: ': 0\n",
      "Token 33:   0\n",
      "Token 34: 1 0\n",
      "Token 35: 4 0\n",
      "Token 36: , 0\n",
      "Token 37:  ' 0\n",
      "Token 38: Ava 0\n",
      "Token 39: ': 0\n",
      "Token 40:   0\n",
      "Token 41: 1 0\n",
      "Token 42: 8 0\n",
      "Token 43: , 0\n",
      "Token 44:  ' 0\n",
      "Token 45: Emma 0\n",
      "Token 46: ': 0\n",
      "Token 47:   0\n",
      "Token 48: 1 0\n",
      "Token 49: 7 0\n",
      "Token 50: , 0\n",
      "Token 51:  ' 0\n",
      "Token 52: Oliver 0\n",
      "Token 53: ': 0\n",
      "Token 54:   0\n",
      "Token 55: 1 0\n",
      "Token 56: 1 0\n",
      "Token 57: } 0\n",
      "Token 58: \n",
      " 0\n",
      "Token 59: >>> 0\n",
      "Token 60:  age 0\n",
      "Token 61: [\" 0\n",
      "Token 62: Chris 0\n",
      "Token 63: \"] 0\n",
      "Token 64: \n",
      " 0\n"
     ]
    }
   ],
   "source": [
    "# ?????\n",
    "# testmask = saes[0].mask.mask.data.clone()\n",
    "\n",
    "# binarized = (testmask > 0.5).float()\n",
    "\n",
    "# print(torch.count_nonzero(binarized))\n",
    "\n",
    "# tokens = model.to_str_tokens(simple_dataset[2][0])\n",
    "# for i in range(65):\n",
    "#     print(f\"Token {i}:\", tokens[i], torch.count_nonzero(binarized[i]).item())"
   ]
  },
  {
   "cell_type": "code",
   "execution_count": null,
   "metadata": {},
   "outputs": [
    {
     "data": {
      "image/png": "[encoded data removed]",
      "text/plain": [
       "<Figure size 1400x600 with 2 Axes>"
      ]
     },
     "metadata": {},
     "output_type": "display_data"
    }
   ],
   "source": [
    "import torch\n",
    "import numpy as np\n",
    "import matplotlib.pyplot as plt\n",
    "import seaborn as sns\n",
    "\n",
    "# Assuming 'saes', 'model', and 'simple_dataset' are defined\n",
    "tokens = model.to_str_tokens(simple_dataset[2][0])\n",
    "num_masks = 4  # Number of masks you have\n",
    "counts_per_mask = []\n",
    "\n",
    "for mask_index in range(num_masks):\n",
    "    testmask = saes[mask_index].mask.mask.data.clone()\n",
    "    binarized = (testmask > 0.5).float()\n",
    "    counts = []\n",
    "    for i in range(len(tokens)):\n",
    "        counts.append(torch.count_nonzero(binarized[i]).item())\n",
    "    counts_per_mask.append(counts)\n",
    "\n",
    "# Convert counts to a NumPy array\n",
    "data = np.array(counts_per_mask)  # Shape: (num_masks, num_tokens)\n",
    "\n",
    "# Create a mask for zero values\n",
    "zero_mask = data == 0\n",
    "\n",
    "# Create a custom colormap that starts from a color for the lowest non-zero value\n",
    "from matplotlib.colors import ListedColormap, BoundaryNorm\n",
    "\n",
    "# Define a colormap\n",
    "cmap = sns.color_palette(\"viridis\", as_cmap=True)\n",
    "\n",
    "# Plot the heatmap with the mask\n",
    "plt.figure(figsize=(14, 6))\n",
    "ax = sns.heatmap(\n",
    "    data,\n",
    "    annot=True,\n",
    "    fmt='d',\n",
    "    cmap=cmap,\n",
    "    mask=zero_mask,\n",
    "    cbar_kws={'label': 'Counts'},\n",
    "    linewidths=0.5,\n",
    "    linecolor='gray'\n",
    ")\n",
    "\n",
    "# Set x-axis labels to tokens\n",
    "ax.set_xticks(np.arange(len(tokens)) + 0.5)\n",
    "ax.set_xticklabels(tokens, rotation=90, fontsize=8)\n",
    "\n",
    "# Set y-axis labels to masks\n",
    "ax.set_yticks(np.arange(num_masks) + 0.5)\n",
    "ax.set_yticklabels([f'SAE {i}' for i in range(num_masks)], rotation=0)\n",
    "\n",
    "plt.xlabel('Tokens')\n",
    "plt.ylabel('SAE Number Active Latents')\n",
    "plt.title('Active SAE Latents per Token per Mask (Zero Counts Hidden)')\n",
    "plt.tight_layout()\n",
    "plt.show()\n"
   ]
  },
  {
   "cell_type": "code",
   "execution_count": null,
   "metadata": {},
   "outputs": [
    {
     "data": {
      "image/png": "[encoded data removed]",
      "text/plain": [
       "<Figure size 1400x600 with 1 Axes>"
      ]
     },
     "metadata": {},
     "output_type": "display_data"
    }
   ],
   "source": [
    "# Positions of the tokens on the x-axis\n",
    "x = np.arange(len(tokens))\n",
    "\n",
    "plt.figure(figsize=(14, 6))\n",
    "\n",
    "# Plot counts for each mask\n",
    "for mask_index in range(num_masks):\n",
    "    y = counts_per_mask[mask_index]\n",
    "    plt.plot(x, y, marker='o', label=f'Mask {mask_index}')\n",
    "\n",
    "# Set x-axis labels to tokens\n",
    "plt.xticks(x, tokens, rotation=90, fontsize=8)\n",
    "plt.xlabel('Tokens')\n",
    "plt.ylabel('Counts')\n",
    "plt.title('Unmasked latents per Token for Each Mask')\n",
    "plt.legend()\n",
    "plt.tight_layout()\n",
    "plt.show()\n"
   ]
  },
  {
   "cell_type": "code",
   "execution_count": null,
   "metadata": {},
   "outputs": [
    {
     "data": {
      "text/plain": [
       "['<bos>',\n",
       " 'Type',\n",
       " ' \"',\n",
       " 'help',\n",
       " '\",',\n",
       " ' \"',\n",
       " 'copyright',\n",
       " '\",',\n",
       " ' \"',\n",
       " 'credits',\n",
       " '\"',\n",
       " ' or',\n",
       " ' \"',\n",
       " 'license',\n",
       " '\"',\n",
       " ' for',\n",
       " ' more',\n",
       " ' information',\n",
       " '.',\n",
       " '\\n',\n",
       " '>>>',\n",
       " ' age',\n",
       " ' =',\n",
       " \" {'\",\n",
       " 'Lucas',\n",
       " \"':\",\n",
       " ' ',\n",
       " '1',\n",
       " '5',\n",
       " ',',\n",
       " \" '\",\n",
       " 'James',\n",
       " \"':\",\n",
       " ' ',\n",
       " '1',\n",
       " '6',\n",
       " ',',\n",
       " \" '\",\n",
       " 'Megan',\n",
       " \"':\",\n",
       " ' ',\n",
       " '1',\n",
       " '1',\n",
       " ',',\n",
       " \" '\",\n",
       " 'Emma',\n",
       " \"':\",\n",
       " ' ',\n",
       " '1',\n",
       " '7',\n",
       " ',',\n",
       " \" '\",\n",
       " 'Oliver',\n",
       " \"':\",\n",
       " ' ',\n",
       " '1',\n",
       " '3',\n",
       " '}',\n",
       " '\\n',\n",
       " '>>>',\n",
       " ' age',\n",
       " '[\"',\n",
       " 'Benjamin',\n",
       " '\"]',\n",
       " '\\n']"
      ]
     },
     "execution_count": 48,
     "metadata": {},
     "output_type": "execute_result"
    }
   ],
   "source": []
  },
  {
   "cell_type": "code",
   "execution_count": null,
   "metadata": {},
   "outputs": [
    {
     "data": {
      "text/plain": [
       "tensor([-1.3649, -1.3649, -1.3649,  ..., -1.3649, -1.3649, -1.3649],\n",
       "       device='cuda:0', grad_fn=<SelectBackward0>)"
      ]
     },
     "execution_count": 32,
     "metadata": {},
     "output_type": "execute_result"
    }
   ],
   "source": [
    "torch.sigmoid(saes[0].mask.mask[0])"
   ]
  },
  {
   "cell_type": "code",
   "execution_count": null,
   "metadata": {},
   "outputs": [],
   "source": [
    "for sae in saes:\n",
    "    for param in sae.parameters():\n",
    "        param.grad = None\n",
    "    for param in sae.mask.parameters():\n",
    "        param.grad = None\n",
    "\n",
    "for param in model.parameters():\n",
    "    param.grad = None\n",
    "\n",
    "torch.cuda.empty_cache()\n"
   ]
  },
  {
   "cell_type": "markdown",
   "metadata": {},
   "source": [
    "## HPRAM sweep"
   ]
  },
  {
   "cell_type": "code",
   "execution_count": null,
   "metadata": {},
   "outputs": [
    {
     "data": {
      "text/plain": [
       "0.04"
      ]
     },
     "execution_count": 27,
     "metadata": {},
     "output_type": "execute_result"
    }
   ],
   "source": [
    "1/25"
   ]
  },
  {
   "cell_type": "code",
   "execution_count": null,
   "metadata": {},
   "outputs": [
    {
     "name": "stdout",
     "output_type": "stream",
     "text": [
      "Starting run with sparsity multiplier 0.06666666666666667\n",
      "doing a run with sparsity multiplier 0.06666666666666667\n"
     ]
    },
    {
     "data": {
      "text/html": [
       "Tracking run with wandb version 0.18.5"
      ],
      "text/plain": [
       "<IPython.core.display.HTML object>"
      ]
     },
     "metadata": {},
     "output_type": "display_data"
    },
    {
     "data": {
      "text/html": [
       "Run data is saved locally in <code>/workspace/lowrank/wandb/run-20241101_052323-f5xclrxs</code>"
      ],
      "text/plain": [
       "<IPython.core.display.HTML object>"
      ]
     },
     "metadata": {},
     "output_type": "display_data"
    },
    {
     "data": {
      "text/html": [
       "Syncing run <strong><a href='https://wandb.ai/llm-research-activated/sae%20circuits/runs/f5xclrxs' target=\"_blank\">thriving-sparkler-50</a></strong> to <a href='https://wandb.ai/llm-research-activated/sae%20circuits' target=\"_blank\">Weights & Biases</a> (<a href='https://wandb.me/run' target=\"_blank\">docs</a>)<br/>"
      ],
      "text/plain": [
       "<IPython.core.display.HTML object>"
      ]
     },
     "metadata": {},
     "output_type": "display_data"
    },
    {
     "data": {
      "text/html": [
       " View project at <a href='https://wandb.ai/llm-research-activated/sae%20circuits' target=\"_blank\">https://wandb.ai/llm-research-activated/sae%20circuits</a>"
      ],
      "text/plain": [
       "<IPython.core.display.HTML object>"
      ]
     },
     "metadata": {},
     "output_type": "display_data"
    },
    {
     "data": {
      "text/html": [
       " View run at <a href='https://wandb.ai/llm-research-activated/sae%20circuits/runs/f5xclrxs' target=\"_blank\">https://wandb.ai/llm-research-activated/sae%20circuits/runs/f5xclrxs</a>"
      ],
      "text/plain": [
       "<IPython.core.display.HTML object>"
      ]
     },
     "metadata": {},
     "output_type": "display_data"
    },
    {
     "name": "stderr",
     "output_type": "stream",
     "text": [
      "Training Progress:   5%|▍         | 6/125.0 [00:10<03:28,  1.75s/it, Step=5, Progress=0.04, Avg Nonzero Elements=1.17e+4, Task Loss=5.53, Sparsity Loss=783, temperature=tensor(1.2361, device='cuda:0')] \n"
     ]
    },
    {
     "ename": "KeyboardInterrupt",
     "evalue": "",
     "output_type": "error",
     "traceback": [
      "\u001b[0;31m---------------------------------------------------------------------------\u001b[0m",
      "\u001b[0;31mKeyboardInterrupt\u001b[0m                         Traceback (most recent call last)",
      "Cell \u001b[0;32mIn[28], line 11\u001b[0m\n\u001b[1;32m      9\u001b[0m sparsity_multiplier \u001b[38;5;241m=\u001b[39m start \u001b[38;5;241m+\u001b[39m i\u001b[38;5;241m*\u001b[39mstep\n\u001b[1;32m     10\u001b[0m \u001b[38;5;28mprint\u001b[39m(\u001b[38;5;124mf\u001b[39m\u001b[38;5;124m\"\u001b[39m\u001b[38;5;124mStarting run with sparsity multiplier \u001b[39m\u001b[38;5;132;01m{\u001b[39;00msparsity_multiplier\u001b[38;5;132;01m}\u001b[39;00m\u001b[38;5;124m\"\u001b[39m)\n\u001b[0;32m---> 11\u001b[0m \u001b[43mdo_training_run\u001b[49m\u001b[43m(\u001b[49m\u001b[43msparsity_multiplier\u001b[49m\u001b[43m)\u001b[49m\n",
      "Cell \u001b[0;32mIn[24], line 42\u001b[0m, in \u001b[0;36mdo_training_run\u001b[0;34m(sparsity_multiplier, per_token_mask)\u001b[0m\n\u001b[1;32m     39\u001b[0m     sae\u001b[38;5;241m.\u001b[39mmask\u001b[38;5;241m.\u001b[39mratio_trained \u001b[38;5;241m=\u001b[39m ratio_trained\n\u001b[1;32m     41\u001b[0m \u001b[38;5;66;03m# Forward pass with updated ratio_trained\u001b[39;00m\n\u001b[0;32m---> 42\u001b[0m loss, sparsity_loss \u001b[38;5;241m=\u001b[39m \u001b[43mforward_pass\u001b[49m\u001b[43m(\u001b[49m\u001b[43mx\u001b[49m\u001b[43m,\u001b[49m\u001b[43m \u001b[49m\u001b[43my\u001b[49m\u001b[43m,\u001b[49m\u001b[43m \u001b[49m\u001b[43mlogitfn\u001b[49m\u001b[43m,\u001b[49m\u001b[43m \u001b[49m\u001b[43mratio_trained\u001b[49m\u001b[38;5;241;43m=\u001b[39;49m\u001b[43mratio_trained\u001b[49m\u001b[43m)\u001b[49m\n\u001b[1;32m     43\u001b[0m \u001b[38;5;28;01mif\u001b[39;00m per_token_mask:\n\u001b[1;32m     44\u001b[0m     sparsity_loss \u001b[38;5;241m=\u001b[39m sparsity_loss \u001b[38;5;241m/\u001b[39m \u001b[38;5;241m65\u001b[39m\n",
      "Cell \u001b[0;32mIn[23], line 13\u001b[0m, in \u001b[0;36mforward_pass\u001b[0;34m(batch, labels, logitfn, ratio_trained)\u001b[0m\n\u001b[1;32m     11\u001b[0m     sae\u001b[38;5;241m.\u001b[39mmask\u001b[38;5;241m.\u001b[39mratio_trained \u001b[38;5;241m=\u001b[39m ratio_trained\n\u001b[1;32m     12\u001b[0m tokens \u001b[38;5;241m=\u001b[39m batch\n\u001b[0;32m---> 13\u001b[0m logits \u001b[38;5;241m=\u001b[39m \u001b[43mlogitfn\u001b[49m\u001b[43m(\u001b[49m\u001b[43mtokens\u001b[49m\u001b[43m)\u001b[49m\n\u001b[1;32m     14\u001b[0m last_token_logits \u001b[38;5;241m=\u001b[39m logits[:, \u001b[38;5;241m-\u001b[39m\u001b[38;5;241m1\u001b[39m, :]\n\u001b[1;32m     15\u001b[0m loss \u001b[38;5;241m=\u001b[39m F\u001b[38;5;241m.\u001b[39mcross_entropy(last_token_logits, labels)\n",
      "Cell \u001b[0;32mIn[23], line 2\u001b[0m, in \u001b[0;36mlogitfn\u001b[0;34m(tokens)\u001b[0m\n\u001b[1;32m      1\u001b[0m \u001b[38;5;28;01mdef\u001b[39;00m \u001b[38;5;21mlogitfn\u001b[39m(tokens):\n\u001b[0;32m----> 2\u001b[0m     \u001b[38;5;28;01mreturn\u001b[39;00m \u001b[43mmodel\u001b[49m\u001b[38;5;241;43m.\u001b[39;49m\u001b[43mrun_with_hooks\u001b[49m\u001b[43m(\u001b[49m\n\u001b[1;32m      3\u001b[0m \u001b[43m        \u001b[49m\u001b[43mtokens\u001b[49m\u001b[43m,\u001b[49m\u001b[43m \u001b[49m\n\u001b[1;32m      4\u001b[0m \u001b[43m        \u001b[49m\u001b[43mreturn_type\u001b[49m\u001b[38;5;241;43m=\u001b[39;49m\u001b[38;5;124;43m\"\u001b[39;49m\u001b[38;5;124;43mlogits\u001b[39;49m\u001b[38;5;124;43m\"\u001b[39;49m\u001b[43m,\u001b[49m\u001b[43m \u001b[49m\n\u001b[1;32m      5\u001b[0m \u001b[43m        \u001b[49m\u001b[43mfwd_hooks\u001b[49m\u001b[38;5;241;43m=\u001b[39;49m\u001b[43mbuild_hooks_list\u001b[49m\u001b[43m(\u001b[49m\u001b[43mtokens\u001b[49m\u001b[43m,\u001b[49m\u001b[43m \u001b[49m\u001b[43muse_mask\u001b[49m\u001b[38;5;241;43m=\u001b[39;49m\u001b[38;5;28;43;01mTrue\u001b[39;49;00m\u001b[43m)\u001b[49m\n\u001b[1;32m      6\u001b[0m \u001b[43m        \u001b[49m\u001b[43m)\u001b[49m\n",
      "File \u001b[0;32m/usr/local/lib/python3.10/dist-packages/transformer_lens/hook_points.py:454\u001b[0m, in \u001b[0;36mHookedRootModule.run_with_hooks\u001b[0;34m(self, fwd_hooks, bwd_hooks, reset_hooks_end, clear_contexts, *model_args, **model_kwargs)\u001b[0m\n\u001b[1;32m    449\u001b[0m     logging\u001b[38;5;241m.\u001b[39mwarning(\n\u001b[1;32m    450\u001b[0m         \u001b[38;5;124m\"\u001b[39m\u001b[38;5;124mWARNING: Hooks will be reset at the end of run_with_hooks. This removes the backward hooks before a backward pass can occur.\u001b[39m\u001b[38;5;124m\"\u001b[39m\n\u001b[1;32m    451\u001b[0m     )\n\u001b[1;32m    453\u001b[0m \u001b[38;5;28;01mwith\u001b[39;00m \u001b[38;5;28mself\u001b[39m\u001b[38;5;241m.\u001b[39mhooks(fwd_hooks, bwd_hooks, reset_hooks_end, clear_contexts) \u001b[38;5;28;01mas\u001b[39;00m hooked_model:\n\u001b[0;32m--> 454\u001b[0m     \u001b[38;5;28;01mreturn\u001b[39;00m \u001b[43mhooked_model\u001b[49m\u001b[38;5;241;43m.\u001b[39;49m\u001b[43mforward\u001b[49m\u001b[43m(\u001b[49m\u001b[38;5;241;43m*\u001b[39;49m\u001b[43mmodel_args\u001b[49m\u001b[43m,\u001b[49m\u001b[43m \u001b[49m\u001b[38;5;241;43m*\u001b[39;49m\u001b[38;5;241;43m*\u001b[39;49m\u001b[43mmodel_kwargs\u001b[49m\u001b[43m)\u001b[49m\n",
      "File \u001b[0;32m/usr/local/lib/python3.10/dist-packages/transformer_lens/HookedTransformer.py:573\u001b[0m, in \u001b[0;36mHookedTransformer.forward\u001b[0;34m(self, input, return_type, loss_per_token, prepend_bos, padding_side, start_at_layer, tokens, shortformer_pos_embed, attention_mask, stop_at_layer, past_kv_cache)\u001b[0m\n\u001b[1;32m    568\u001b[0m     \u001b[38;5;28;01mif\u001b[39;00m shortformer_pos_embed \u001b[38;5;129;01mis\u001b[39;00m \u001b[38;5;129;01mnot\u001b[39;00m \u001b[38;5;28;01mNone\u001b[39;00m:\n\u001b[1;32m    569\u001b[0m         shortformer_pos_embed \u001b[38;5;241m=\u001b[39m shortformer_pos_embed\u001b[38;5;241m.\u001b[39mto(\n\u001b[1;32m    570\u001b[0m             devices\u001b[38;5;241m.\u001b[39mget_device_for_block_index(i, \u001b[38;5;28mself\u001b[39m\u001b[38;5;241m.\u001b[39mcfg)\n\u001b[1;32m    571\u001b[0m         )\n\u001b[0;32m--> 573\u001b[0m     residual \u001b[38;5;241m=\u001b[39m \u001b[43mblock\u001b[49m\u001b[43m(\u001b[49m\n\u001b[1;32m    574\u001b[0m \u001b[43m        \u001b[49m\u001b[43mresidual\u001b[49m\u001b[43m,\u001b[49m\n\u001b[1;32m    575\u001b[0m \u001b[43m        \u001b[49m\u001b[38;5;66;43;03m# Cache contains a list of HookedTransformerKeyValueCache objects, one for each\u001b[39;49;00m\n\u001b[1;32m    576\u001b[0m \u001b[43m        \u001b[49m\u001b[38;5;66;43;03m# block\u001b[39;49;00m\n\u001b[1;32m    577\u001b[0m \u001b[43m        \u001b[49m\u001b[43mpast_kv_cache_entry\u001b[49m\u001b[38;5;241;43m=\u001b[39;49m\u001b[43mpast_kv_cache\u001b[49m\u001b[43m[\u001b[49m\u001b[43mi\u001b[49m\u001b[43m]\u001b[49m\u001b[43m \u001b[49m\u001b[38;5;28;43;01mif\u001b[39;49;00m\u001b[43m \u001b[49m\u001b[43mpast_kv_cache\u001b[49m\u001b[43m \u001b[49m\u001b[38;5;129;43;01mis\u001b[39;49;00m\u001b[43m \u001b[49m\u001b[38;5;129;43;01mnot\u001b[39;49;00m\u001b[43m \u001b[49m\u001b[38;5;28;43;01mNone\u001b[39;49;00m\u001b[43m \u001b[49m\u001b[38;5;28;43;01melse\u001b[39;49;00m\u001b[43m \u001b[49m\u001b[38;5;28;43;01mNone\u001b[39;49;00m\u001b[43m,\u001b[49m\n\u001b[1;32m    578\u001b[0m \u001b[43m        \u001b[49m\u001b[43mshortformer_pos_embed\u001b[49m\u001b[38;5;241;43m=\u001b[39;49m\u001b[43mshortformer_pos_embed\u001b[49m\u001b[43m,\u001b[49m\n\u001b[1;32m    579\u001b[0m \u001b[43m        \u001b[49m\u001b[43mattention_mask\u001b[49m\u001b[38;5;241;43m=\u001b[39;49m\u001b[43mattention_mask\u001b[49m\u001b[43m,\u001b[49m\n\u001b[1;32m    580\u001b[0m \u001b[43m    \u001b[49m\u001b[43m)\u001b[49m  \u001b[38;5;66;03m# [batch, pos, d_model]\u001b[39;00m\n\u001b[1;32m    582\u001b[0m \u001b[38;5;28;01mif\u001b[39;00m stop_at_layer \u001b[38;5;129;01mis\u001b[39;00m \u001b[38;5;129;01mnot\u001b[39;00m \u001b[38;5;28;01mNone\u001b[39;00m:\n\u001b[1;32m    583\u001b[0m     \u001b[38;5;66;03m# When we stop at an early layer, we end here rather than doing further computation\u001b[39;00m\n\u001b[1;32m    584\u001b[0m     \u001b[38;5;28;01mreturn\u001b[39;00m residual\n",
      "File \u001b[0;32m/usr/local/lib/python3.10/dist-packages/torch/nn/modules/module.py:1518\u001b[0m, in \u001b[0;36mModule._wrapped_call_impl\u001b[0;34m(self, *args, **kwargs)\u001b[0m\n\u001b[1;32m   1516\u001b[0m     \u001b[38;5;28;01mreturn\u001b[39;00m \u001b[38;5;28mself\u001b[39m\u001b[38;5;241m.\u001b[39m_compiled_call_impl(\u001b[38;5;241m*\u001b[39margs, \u001b[38;5;241m*\u001b[39m\u001b[38;5;241m*\u001b[39mkwargs)  \u001b[38;5;66;03m# type: ignore[misc]\u001b[39;00m\n\u001b[1;32m   1517\u001b[0m \u001b[38;5;28;01melse\u001b[39;00m:\n\u001b[0;32m-> 1518\u001b[0m     \u001b[38;5;28;01mreturn\u001b[39;00m \u001b[38;5;28;43mself\u001b[39;49m\u001b[38;5;241;43m.\u001b[39;49m\u001b[43m_call_impl\u001b[49m\u001b[43m(\u001b[49m\u001b[38;5;241;43m*\u001b[39;49m\u001b[43margs\u001b[49m\u001b[43m,\u001b[49m\u001b[43m \u001b[49m\u001b[38;5;241;43m*\u001b[39;49m\u001b[38;5;241;43m*\u001b[39;49m\u001b[43mkwargs\u001b[49m\u001b[43m)\u001b[49m\n",
      "File \u001b[0;32m/usr/local/lib/python3.10/dist-packages/torch/nn/modules/module.py:1527\u001b[0m, in \u001b[0;36mModule._call_impl\u001b[0;34m(self, *args, **kwargs)\u001b[0m\n\u001b[1;32m   1522\u001b[0m \u001b[38;5;66;03m# If we don't have any hooks, we want to skip the rest of the logic in\u001b[39;00m\n\u001b[1;32m   1523\u001b[0m \u001b[38;5;66;03m# this function, and just call forward.\u001b[39;00m\n\u001b[1;32m   1524\u001b[0m \u001b[38;5;28;01mif\u001b[39;00m \u001b[38;5;129;01mnot\u001b[39;00m (\u001b[38;5;28mself\u001b[39m\u001b[38;5;241m.\u001b[39m_backward_hooks \u001b[38;5;129;01mor\u001b[39;00m \u001b[38;5;28mself\u001b[39m\u001b[38;5;241m.\u001b[39m_backward_pre_hooks \u001b[38;5;129;01mor\u001b[39;00m \u001b[38;5;28mself\u001b[39m\u001b[38;5;241m.\u001b[39m_forward_hooks \u001b[38;5;129;01mor\u001b[39;00m \u001b[38;5;28mself\u001b[39m\u001b[38;5;241m.\u001b[39m_forward_pre_hooks\n\u001b[1;32m   1525\u001b[0m         \u001b[38;5;129;01mor\u001b[39;00m _global_backward_pre_hooks \u001b[38;5;129;01mor\u001b[39;00m _global_backward_hooks\n\u001b[1;32m   1526\u001b[0m         \u001b[38;5;129;01mor\u001b[39;00m _global_forward_hooks \u001b[38;5;129;01mor\u001b[39;00m _global_forward_pre_hooks):\n\u001b[0;32m-> 1527\u001b[0m     \u001b[38;5;28;01mreturn\u001b[39;00m \u001b[43mforward_call\u001b[49m\u001b[43m(\u001b[49m\u001b[38;5;241;43m*\u001b[39;49m\u001b[43margs\u001b[49m\u001b[43m,\u001b[49m\u001b[43m \u001b[49m\u001b[38;5;241;43m*\u001b[39;49m\u001b[38;5;241;43m*\u001b[39;49m\u001b[43mkwargs\u001b[49m\u001b[43m)\u001b[49m\n\u001b[1;32m   1529\u001b[0m \u001b[38;5;28;01mtry\u001b[39;00m:\n\u001b[1;32m   1530\u001b[0m     result \u001b[38;5;241m=\u001b[39m \u001b[38;5;28;01mNone\u001b[39;00m\n",
      "File \u001b[0;32m/usr/local/lib/python3.10/dist-packages/transformer_lens/components/transformer_block.py:160\u001b[0m, in \u001b[0;36mTransformerBlock.forward\u001b[0;34m(self, resid_pre, shortformer_pos_embed, past_kv_cache_entry, attention_mask)\u001b[0m\n\u001b[1;32m    153\u001b[0m     key_input \u001b[38;5;241m=\u001b[39m attn_in\n\u001b[1;32m    154\u001b[0m     value_input \u001b[38;5;241m=\u001b[39m attn_in\n\u001b[1;32m    156\u001b[0m attn_out \u001b[38;5;241m=\u001b[39m (\n\u001b[1;32m    157\u001b[0m     \u001b[38;5;66;03m# hook the residual stream states that are used to calculate the\u001b[39;00m\n\u001b[1;32m    158\u001b[0m     \u001b[38;5;66;03m# queries, keys and values, independently.\u001b[39;00m\n\u001b[1;32m    159\u001b[0m     \u001b[38;5;66;03m# Then take the layer norm of these inputs, and pass these to the attention module.\u001b[39;00m\n\u001b[0;32m--> 160\u001b[0m     \u001b[38;5;28;43mself\u001b[39;49m\u001b[38;5;241;43m.\u001b[39;49m\u001b[43mattn\u001b[49m\u001b[43m(\u001b[49m\n\u001b[1;32m    161\u001b[0m \u001b[43m        \u001b[49m\u001b[43mquery_input\u001b[49m\u001b[38;5;241;43m=\u001b[39;49m\u001b[38;5;28;43mself\u001b[39;49m\u001b[38;5;241;43m.\u001b[39;49m\u001b[43mln1\u001b[49m\u001b[43m(\u001b[49m\u001b[43mquery_input\u001b[49m\u001b[43m)\u001b[49m\n\u001b[1;32m    162\u001b[0m \u001b[43m        \u001b[49m\u001b[38;5;241;43m+\u001b[39;49m\u001b[43m \u001b[49m\u001b[43m(\u001b[49m\u001b[38;5;241;43m0.0\u001b[39;49m\u001b[43m \u001b[49m\u001b[38;5;28;43;01mif\u001b[39;49;00m\u001b[43m \u001b[49m\u001b[43mshortformer_pos_embed\u001b[49m\u001b[43m \u001b[49m\u001b[38;5;129;43;01mis\u001b[39;49;00m\u001b[43m \u001b[49m\u001b[38;5;28;43;01mNone\u001b[39;49;00m\u001b[43m \u001b[49m\u001b[38;5;28;43;01melse\u001b[39;49;00m\u001b[43m \u001b[49m\u001b[43mshortformer_pos_embed\u001b[49m\u001b[43m)\u001b[49m\u001b[43m,\u001b[49m\n\u001b[1;32m    163\u001b[0m \u001b[43m        \u001b[49m\u001b[43mkey_input\u001b[49m\u001b[38;5;241;43m=\u001b[39;49m\u001b[38;5;28;43mself\u001b[39;49m\u001b[38;5;241;43m.\u001b[39;49m\u001b[43mln1\u001b[49m\u001b[43m(\u001b[49m\u001b[43mkey_input\u001b[49m\u001b[43m)\u001b[49m\n\u001b[1;32m    164\u001b[0m \u001b[43m        \u001b[49m\u001b[38;5;241;43m+\u001b[39;49m\u001b[43m \u001b[49m\u001b[43m(\u001b[49m\u001b[38;5;241;43m0.0\u001b[39;49m\u001b[43m \u001b[49m\u001b[38;5;28;43;01mif\u001b[39;49;00m\u001b[43m \u001b[49m\u001b[43mshortformer_pos_embed\u001b[49m\u001b[43m \u001b[49m\u001b[38;5;129;43;01mis\u001b[39;49;00m\u001b[43m \u001b[49m\u001b[38;5;28;43;01mNone\u001b[39;49;00m\u001b[43m \u001b[49m\u001b[38;5;28;43;01melse\u001b[39;49;00m\u001b[43m \u001b[49m\u001b[43mshortformer_pos_embed\u001b[49m\u001b[43m)\u001b[49m\u001b[43m,\u001b[49m\n\u001b[1;32m    165\u001b[0m \u001b[43m        \u001b[49m\u001b[43mvalue_input\u001b[49m\u001b[38;5;241;43m=\u001b[39;49m\u001b[38;5;28;43mself\u001b[39;49m\u001b[38;5;241;43m.\u001b[39;49m\u001b[43mln1\u001b[49m\u001b[43m(\u001b[49m\u001b[43mvalue_input\u001b[49m\u001b[43m)\u001b[49m\u001b[43m,\u001b[49m\n\u001b[1;32m    166\u001b[0m \u001b[43m        \u001b[49m\u001b[43mpast_kv_cache_entry\u001b[49m\u001b[38;5;241;43m=\u001b[39;49m\u001b[43mpast_kv_cache_entry\u001b[49m\u001b[43m,\u001b[49m\n\u001b[1;32m    167\u001b[0m \u001b[43m        \u001b[49m\u001b[43mattention_mask\u001b[49m\u001b[38;5;241;43m=\u001b[39;49m\u001b[43mattention_mask\u001b[49m\u001b[43m,\u001b[49m\n\u001b[1;32m    168\u001b[0m \u001b[43m    \u001b[49m\u001b[43m)\u001b[49m\n\u001b[1;32m    169\u001b[0m )  \u001b[38;5;66;03m# [batch, pos, d_model]\u001b[39;00m\n\u001b[1;32m    170\u001b[0m \u001b[38;5;28;01mif\u001b[39;00m \u001b[38;5;28mself\u001b[39m\u001b[38;5;241m.\u001b[39mcfg\u001b[38;5;241m.\u001b[39muse_normalization_before_and_after:\n\u001b[1;32m    171\u001b[0m     \u001b[38;5;66;03m# If we use LayerNorm both before and after, then apply the second LN after the layer\u001b[39;00m\n\u001b[1;32m    172\u001b[0m     \u001b[38;5;66;03m# and before the hook. We do it before the hook so hook_attn_out captures \"that which\u001b[39;00m\n\u001b[1;32m    173\u001b[0m     \u001b[38;5;66;03m# is added to the residual stream\"\u001b[39;00m\n\u001b[1;32m    174\u001b[0m     attn_out \u001b[38;5;241m=\u001b[39m \u001b[38;5;28mself\u001b[39m\u001b[38;5;241m.\u001b[39mln1_post(attn_out)\n",
      "File \u001b[0;32m/usr/local/lib/python3.10/dist-packages/torch/nn/modules/module.py:1518\u001b[0m, in \u001b[0;36mModule._wrapped_call_impl\u001b[0;34m(self, *args, **kwargs)\u001b[0m\n\u001b[1;32m   1516\u001b[0m     \u001b[38;5;28;01mreturn\u001b[39;00m \u001b[38;5;28mself\u001b[39m\u001b[38;5;241m.\u001b[39m_compiled_call_impl(\u001b[38;5;241m*\u001b[39margs, \u001b[38;5;241m*\u001b[39m\u001b[38;5;241m*\u001b[39mkwargs)  \u001b[38;5;66;03m# type: ignore[misc]\u001b[39;00m\n\u001b[1;32m   1517\u001b[0m \u001b[38;5;28;01melse\u001b[39;00m:\n\u001b[0;32m-> 1518\u001b[0m     \u001b[38;5;28;01mreturn\u001b[39;00m \u001b[38;5;28;43mself\u001b[39;49m\u001b[38;5;241;43m.\u001b[39;49m\u001b[43m_call_impl\u001b[49m\u001b[43m(\u001b[49m\u001b[38;5;241;43m*\u001b[39;49m\u001b[43margs\u001b[49m\u001b[43m,\u001b[49m\u001b[43m \u001b[49m\u001b[38;5;241;43m*\u001b[39;49m\u001b[38;5;241;43m*\u001b[39;49m\u001b[43mkwargs\u001b[49m\u001b[43m)\u001b[49m\n",
      "File \u001b[0;32m/usr/local/lib/python3.10/dist-packages/torch/nn/modules/module.py:1527\u001b[0m, in \u001b[0;36mModule._call_impl\u001b[0;34m(self, *args, **kwargs)\u001b[0m\n\u001b[1;32m   1522\u001b[0m \u001b[38;5;66;03m# If we don't have any hooks, we want to skip the rest of the logic in\u001b[39;00m\n\u001b[1;32m   1523\u001b[0m \u001b[38;5;66;03m# this function, and just call forward.\u001b[39;00m\n\u001b[1;32m   1524\u001b[0m \u001b[38;5;28;01mif\u001b[39;00m \u001b[38;5;129;01mnot\u001b[39;00m (\u001b[38;5;28mself\u001b[39m\u001b[38;5;241m.\u001b[39m_backward_hooks \u001b[38;5;129;01mor\u001b[39;00m \u001b[38;5;28mself\u001b[39m\u001b[38;5;241m.\u001b[39m_backward_pre_hooks \u001b[38;5;129;01mor\u001b[39;00m \u001b[38;5;28mself\u001b[39m\u001b[38;5;241m.\u001b[39m_forward_hooks \u001b[38;5;129;01mor\u001b[39;00m \u001b[38;5;28mself\u001b[39m\u001b[38;5;241m.\u001b[39m_forward_pre_hooks\n\u001b[1;32m   1525\u001b[0m         \u001b[38;5;129;01mor\u001b[39;00m _global_backward_pre_hooks \u001b[38;5;129;01mor\u001b[39;00m _global_backward_hooks\n\u001b[1;32m   1526\u001b[0m         \u001b[38;5;129;01mor\u001b[39;00m _global_forward_hooks \u001b[38;5;129;01mor\u001b[39;00m _global_forward_pre_hooks):\n\u001b[0;32m-> 1527\u001b[0m     \u001b[38;5;28;01mreturn\u001b[39;00m \u001b[43mforward_call\u001b[49m\u001b[43m(\u001b[49m\u001b[38;5;241;43m*\u001b[39;49m\u001b[43margs\u001b[49m\u001b[43m,\u001b[49m\u001b[43m \u001b[49m\u001b[38;5;241;43m*\u001b[39;49m\u001b[38;5;241;43m*\u001b[39;49m\u001b[43mkwargs\u001b[49m\u001b[43m)\u001b[49m\n\u001b[1;32m   1529\u001b[0m \u001b[38;5;28;01mtry\u001b[39;00m:\n\u001b[1;32m   1530\u001b[0m     result \u001b[38;5;241m=\u001b[39m \u001b[38;5;28;01mNone\u001b[39;00m\n",
      "File \u001b[0;32m/usr/local/lib/python3.10/dist-packages/transformer_lens/components/abstract_attention.py:209\u001b[0m, in \u001b[0;36mAbstractAttention.forward\u001b[0;34m(self, query_input, key_input, value_input, past_kv_cache_entry, additive_attention_mask, attention_mask, position_bias)\u001b[0m\n\u001b[1;32m    206\u001b[0m \u001b[38;5;28;01mif\u001b[39;00m \u001b[38;5;28mself\u001b[39m\u001b[38;5;241m.\u001b[39mcfg\u001b[38;5;241m.\u001b[39mpositional_embedding_type \u001b[38;5;241m==\u001b[39m \u001b[38;5;124m\"\u001b[39m\u001b[38;5;124mrotary\u001b[39m\u001b[38;5;124m\"\u001b[39m:\n\u001b[1;32m    207\u001b[0m     q \u001b[38;5;241m=\u001b[39m \u001b[38;5;28mself\u001b[39m\u001b[38;5;241m.\u001b[39mhook_rot_q(\u001b[38;5;28mself\u001b[39m\u001b[38;5;241m.\u001b[39mapply_rotary(q, kv_cache_pos_offset, attention_mask))\n\u001b[1;32m    208\u001b[0m     k \u001b[38;5;241m=\u001b[39m \u001b[38;5;28mself\u001b[39m\u001b[38;5;241m.\u001b[39mhook_rot_k(\n\u001b[0;32m--> 209\u001b[0m         \u001b[38;5;28;43mself\u001b[39;49m\u001b[38;5;241;43m.\u001b[39;49m\u001b[43mapply_rotary\u001b[49m\u001b[43m(\u001b[49m\u001b[43mk\u001b[49m\u001b[43m,\u001b[49m\u001b[43m \u001b[49m\u001b[38;5;241;43m0\u001b[39;49m\u001b[43m,\u001b[49m\u001b[43m \u001b[49m\u001b[43mattention_mask\u001b[49m\u001b[43m)\u001b[49m\n\u001b[1;32m    210\u001b[0m     )  \u001b[38;5;66;03m# keys are cached so no offset\u001b[39;00m\n\u001b[1;32m    212\u001b[0m \u001b[38;5;28;01mif\u001b[39;00m \u001b[38;5;28mself\u001b[39m\u001b[38;5;241m.\u001b[39mcfg\u001b[38;5;241m.\u001b[39mdtype \u001b[38;5;129;01mnot\u001b[39;00m \u001b[38;5;129;01min\u001b[39;00m [torch\u001b[38;5;241m.\u001b[39mfloat32, torch\u001b[38;5;241m.\u001b[39mfloat64]:\n\u001b[1;32m    213\u001b[0m     \u001b[38;5;66;03m# If using 16 bits, increase the precision to avoid numerical instabilities\u001b[39;00m\n\u001b[1;32m    214\u001b[0m     q \u001b[38;5;241m=\u001b[39m q\u001b[38;5;241m.\u001b[39mto(torch\u001b[38;5;241m.\u001b[39mfloat32)\n",
      "File \u001b[0;32m/usr/local/lib/python3.10/dist-packages/transformer_lens/components/abstract_attention.py:565\u001b[0m, in \u001b[0;36mAbstractAttention.apply_rotary\u001b[0;34m(self, x, past_kv_pos_offset, attention_mask)\u001b[0m\n\u001b[1;32m    562\u001b[0m     mask_rotary_sin \u001b[38;5;241m=\u001b[39m \u001b[38;5;28mself\u001b[39m\u001b[38;5;241m.\u001b[39mrotary_sin[offset_position_ids, \u001b[38;5;28;01mNone\u001b[39;00m, :]\n\u001b[1;32m    563\u001b[0m     x_rotated \u001b[38;5;241m=\u001b[39m x_rot \u001b[38;5;241m*\u001b[39m mask_rotary_cos \u001b[38;5;241m+\u001b[39m x_flip \u001b[38;5;241m*\u001b[39m mask_rotary_sin\n\u001b[0;32m--> 565\u001b[0m \u001b[38;5;28;01mreturn\u001b[39;00m \u001b[43mtorch\u001b[49m\u001b[38;5;241;43m.\u001b[39;49m\u001b[43mcat\u001b[49m\u001b[43m(\u001b[49m\u001b[43m[\u001b[49m\u001b[43mx_rotated\u001b[49m\u001b[43m,\u001b[49m\u001b[43m \u001b[49m\u001b[43mx_pass\u001b[49m\u001b[43m]\u001b[49m\u001b[43m,\u001b[49m\u001b[43m \u001b[49m\u001b[43mdim\u001b[49m\u001b[38;5;241;43m=\u001b[39;49m\u001b[38;5;241;43m-\u001b[39;49m\u001b[38;5;241;43m1\u001b[39;49m\u001b[43m)\u001b[49m\n",
      "File \u001b[0;32m/usr/local/lib/python3.10/dist-packages/torch/utils/_device.py:77\u001b[0m, in \u001b[0;36mDeviceContext.__torch_function__\u001b[0;34m(self, func, types, args, kwargs)\u001b[0m\n\u001b[1;32m     75\u001b[0m \u001b[38;5;28;01mif\u001b[39;00m func \u001b[38;5;129;01min\u001b[39;00m _device_constructors() \u001b[38;5;129;01mand\u001b[39;00m kwargs\u001b[38;5;241m.\u001b[39mget(\u001b[38;5;124m'\u001b[39m\u001b[38;5;124mdevice\u001b[39m\u001b[38;5;124m'\u001b[39m) \u001b[38;5;129;01mis\u001b[39;00m \u001b[38;5;28;01mNone\u001b[39;00m:\n\u001b[1;32m     76\u001b[0m     kwargs[\u001b[38;5;124m'\u001b[39m\u001b[38;5;124mdevice\u001b[39m\u001b[38;5;124m'\u001b[39m] \u001b[38;5;241m=\u001b[39m \u001b[38;5;28mself\u001b[39m\u001b[38;5;241m.\u001b[39mdevice\n\u001b[0;32m---> 77\u001b[0m \u001b[38;5;28;01mreturn\u001b[39;00m \u001b[43mfunc\u001b[49m\u001b[43m(\u001b[49m\u001b[38;5;241;43m*\u001b[39;49m\u001b[43margs\u001b[49m\u001b[43m,\u001b[49m\u001b[43m \u001b[49m\u001b[38;5;241;43m*\u001b[39;49m\u001b[38;5;241;43m*\u001b[39;49m\u001b[43mkwargs\u001b[49m\u001b[43m)\u001b[49m\n",
      "\u001b[0;31mKeyboardInterrupt\u001b[0m: "
     ]
    }
   ],
   "source": [
    "# 1/10 -> 1/100\n",
    "num_runs = 10\n",
    "\n",
    "start = 1/15\n",
    "end = 1/100\n",
    "step = (end-start)/num_runs\n",
    "\n",
    "for i in range(num_runs):\n",
    "    sparsity_multiplier = start + i*step\n",
    "    print(f\"Starting run with sparsity multiplier {sparsity_multiplier}\")\n",
    "    do_training_run(sparsity_multiplier)"
   ]
  },
  {
   "cell_type": "markdown",
   "metadata": {},
   "source": [
    "## Eval"
   ]
  },
  {
   "cell_type": "code",
   "execution_count": null,
   "metadata": {},
   "outputs": [],
   "source": [
    "def masked_logit_fn(tokens):\n",
    "    return model.run_with_hooks(\n",
    "        tokens, \n",
    "        return_type=\"logits\", \n",
    "        fwd_hooks=build_hooks_list(tokens, use_mask=True, binarize_mask=True, mean_mask=True)\n",
    "        )"
   ]
  },
  {
   "cell_type": "code",
   "execution_count": null,
   "metadata": {},
   "outputs": [],
   "source": [
    "def baseline_logit_fn(tokens):\n",
    "    return model.run_with_hooks(\n",
    "        tokens, \n",
    "        return_type=\"logits\", \n",
    "        fwd_hooks=[]\n",
    "        )"
   ]
  },
  {
   "cell_type": "code",
   "execution_count": null,
   "metadata": {},
   "outputs": [],
   "source": [
    "def baseline_sae_logit_fn(tokens):\n",
    "    return model.run_with_hooks(\n",
    "        tokens, \n",
    "        return_type=\"logits\", \n",
    "        fwd_hooks=build_hooks_list(tokens)\n",
    "        )"
   ]
  },
  {
   "cell_type": "code",
   "execution_count": null,
   "metadata": {},
   "outputs": [
    {
     "data": {
      "text/plain": [
       "5"
      ]
     },
     "execution_count": 56,
     "metadata": {},
     "output_type": "execute_result"
    }
   ],
   "source": [
    "# serialize the masks\n",
    "mask_dict = {}\n",
    "for sae in saes:\n",
    "    mask_dict[sae.cfg.hook_name] = torch.where(torch.sigmoid(sae.mask.mask*10000))[0].tolist()\n",
    "\n",
    "json.dump(mask_dict, open(\"mask_dict.json\", \"w\"))\n",
    "len(mask_dict[\"blocks.7.hook_resid_post\"])"
   ]
  },
  {
   "cell_type": "code",
   "execution_count": null,
   "metadata": {},
   "outputs": [
    {
     "name": "stdout",
     "output_type": "stream",
     "text": [
      "Nonzero elements in mask for blocks.7.hook_resid_post: 5\n",
      "Nonzero elements in mask for blocks.14.hook_resid_post: 13\n",
      "Nonzero elements in mask for blocks.21.hook_resid_post: 20\n",
      "Nonzero elements in mask for blocks.40.hook_resid_post: 45\n"
     ]
    }
   ],
   "source": [
    "for sae in saes:\n",
    "    mask = sae.mask.mask\n",
    "    print(f\"Nonzero elements in mask for {sae.cfg.hook_name}: {torch.count_nonzero(torch.sigmoid(mask*1000))}\")"
   ]
  },
  {
   "cell_type": "code",
   "execution_count": null,
   "metadata": {},
   "outputs": [
    {
     "name": "stdout",
     "output_type": "stream",
     "text": [
      "baseline loss: tensor(0.0276, device='cuda:0')\n",
      "sae loss:  tensor(0.8250, device='cuda:0')\n",
      "ablated loss:  tensor(0.4248, device='cuda:0')\n"
     ]
    }
   ],
   "source": [
    "def eval_ce_loss(batch, labels, logitfn, ratio_trained=10):\n",
    "    for sae in saes:\n",
    "        sae.mask.ratio_trained = ratio_trained\n",
    "    tokens = batch\n",
    "    logits = logitfn(tokens)\n",
    "    last_token_logits = logits[:, -1, :]\n",
    "    loss = F.cross_entropy(last_token_logits, labels)\n",
    "    sparsity_loss = 0\n",
    "    for sae in saes:\n",
    "        sparsity_loss = sparsity_loss + sae.mask.sparsity_loss\n",
    "    \n",
    "    sparsity_loss = sparsity_loss / len(saes)\n",
    "\n",
    "    return loss\n",
    "\n",
    "with torch.no_grad():\n",
    "    loss = eval_ce_loss(simple_dataset[-1], simple_labels[-1], baseline_logit_fn)\n",
    "    print(\"baseline loss:\", loss)\n",
    "\n",
    "with torch.no_grad():\n",
    "    loss = eval_ce_loss(simple_dataset[-1], simple_labels[-1], baseline_sae_logit_fn)\n",
    "    print(\"sae loss: \", loss)\n",
    "\n",
    "with torch.no_grad():\n",
    "    loss = eval_ce_loss(simple_dataset[-1], simple_labels[-1], masked_logit_fn)\n",
    "    print(\"ablated loss: \", loss)"
   ]
  },
  {
   "cell_type": "code",
   "execution_count": null,
   "metadata": {},
   "outputs": [],
   "source": [
    "def eval_ce_loss(batch, labels, logitfn, ratio_trained=10):\n",
    "    # Assuming 'saes' is defined elsewhere in your code\n",
    "    for sae in saes:\n",
    "        sae.mask.ratio_trained = ratio_trained\n",
    "    tokens = batch\n",
    "    logits = logitfn(tokens)\n",
    "    last_token_logits = logits[:, -1, :]\n",
    "    loss = F.cross_entropy(last_token_logits, labels)\n",
    "    sparsity_loss = 0\n",
    "    for sae in saes:\n",
    "        sparsity_loss += sae.mask.sparsity_loss\n",
    "    \n",
    "    sparsity_loss = sparsity_loss / len(saes)\n",
    "    total_loss = loss + sparsity_loss\n",
    "\n",
    "    return loss.item()  # Return the loss as a scalar value\n",
    "\n"
   ]
  },
  {
   "cell_type": "code",
   "execution_count": null,
   "metadata": {},
   "outputs": [
    {
     "data": {
      "text/html": [
       "<div>\n",
       "<style scoped>\n",
       "    .dataframe tbody tr th:only-of-type {\n",
       "        vertical-align: middle;\n",
       "    }\n",
       "\n",
       "    .dataframe tbody tr th {\n",
       "        vertical-align: top;\n",
       "    }\n",
       "\n",
       "    .dataframe thead th {\n",
       "        text-align: right;\n",
       "    }\n",
       "</style>\n",
       "<table border=\"1\" class=\"dataframe\">\n",
       "  <thead>\n",
       "    <tr style=\"text-align: right;\">\n",
       "      <th></th>\n",
       "      <th>P(Age|Correct Ex)</th>\n",
       "      <th>P(Traceback|Correct Ex)</th>\n",
       "      <th>Logit Diff (Correct Ex)</th>\n",
       "      <th>P(Traceback|Error Ex)</th>\n",
       "      <th>P(Age|Error Ex)</th>\n",
       "      <th>Logit Diff (Error Ex)</th>\n",
       "      <th>Cross-Entropy Loss</th>\n",
       "    </tr>\n",
       "    <tr>\n",
       "      <th>method</th>\n",
       "      <th></th>\n",
       "      <th></th>\n",
       "      <th></th>\n",
       "      <th></th>\n",
       "      <th></th>\n",
       "      <th></th>\n",
       "      <th></th>\n",
       "    </tr>\n",
       "  </thead>\n",
       "  <tbody>\n",
       "    <tr>\n",
       "      <th>VANILLA GEMMA 9B</th>\n",
       "      <td>0.979983</td>\n",
       "      <td>0.001325</td>\n",
       "      <td>6.898462</td>\n",
       "      <td>0.959781</td>\n",
       "      <td>0.000997</td>\n",
       "      <td>6.925329</td>\n",
       "      <td>0.027596</td>\n",
       "    </tr>\n",
       "    <tr>\n",
       "      <th>GEMMA 9B WITH SAE (no masks)</th>\n",
       "      <td>0.929262</td>\n",
       "      <td>0.001051</td>\n",
       "      <td>6.914926</td>\n",
       "      <td>0.176590</td>\n",
       "      <td>0.025586</td>\n",
       "      <td>2.025202</td>\n",
       "      <td>0.825018</td>\n",
       "    </tr>\n",
       "    <tr>\n",
       "      <th>GEMMA 9B WITH SAE Masked</th>\n",
       "      <td>0.828356</td>\n",
       "      <td>0.015461</td>\n",
       "      <td>4.076188</td>\n",
       "      <td>0.469673</td>\n",
       "      <td>0.076615</td>\n",
       "      <td>1.813243</td>\n",
       "      <td>0.424774</td>\n",
       "    </tr>\n",
       "  </tbody>\n",
       "</table>\n",
       "</div>"
      ],
      "text/plain": [
       "                              P(Age|Correct Ex)  P(Traceback|Correct Ex)  \\\n",
       "method                                                                     \n",
       "VANILLA GEMMA 9B                       0.979983                 0.001325   \n",
       "GEMMA 9B WITH SAE (no masks)           0.929262                 0.001051   \n",
       "GEMMA 9B WITH SAE Masked               0.828356                 0.015461   \n",
       "\n",
       "                              Logit Diff (Correct Ex)  P(Traceback|Error Ex)  \\\n",
       "method                                                                         \n",
       "VANILLA GEMMA 9B                             6.898462               0.959781   \n",
       "GEMMA 9B WITH SAE (no masks)                 6.914926               0.176590   \n",
       "GEMMA 9B WITH SAE Masked                     4.076188               0.469673   \n",
       "\n",
       "                              P(Age|Error Ex)  Logit Diff (Error Ex)  \\\n",
       "method                                                                 \n",
       "VANILLA GEMMA 9B                     0.000997               6.925329   \n",
       "GEMMA 9B WITH SAE (no masks)         0.025586               2.025202   \n",
       "GEMMA 9B WITH SAE Masked             0.076615               1.813243   \n",
       "\n",
       "                              Cross-Entropy Loss  \n",
       "method                                            \n",
       "VANILLA GEMMA 9B                        0.027596  \n",
       "GEMMA 9B WITH SAE (no masks)            0.825018  \n",
       "GEMMA 9B WITH SAE Masked                0.424774  "
      ]
     },
     "execution_count": 60,
     "metadata": {},
     "output_type": "execute_result"
    }
   ],
   "source": [
    "results_list = []\n",
    "\n",
    "# Method: VANILLA GEMMA 9B\n",
    "method_name = \"VANILLA GEMMA 9B\"\n",
    "with torch.no_grad():\n",
    "    results = sanity_check_model_performance(baseline_logit_fn)\n",
    "    # Compute cross-entropy loss\n",
    "    ce_loss = eval_ce_loss(simple_dataset[-1], simple_labels[-1], baseline_logit_fn)\n",
    "    results['ce_loss'] = ce_loss\n",
    "    results['method'] = method_name\n",
    "    results_list.append(results)\n",
    "\n",
    "# Method: GEMMA 9B WITH SAE (no masks)\n",
    "method_name = \"GEMMA 9B WITH SAE (no masks)\"\n",
    "with torch.no_grad():\n",
    "    results = sanity_check_model_performance(baseline_sae_logit_fn)\n",
    "    # Compute cross-entropy loss\n",
    "    ce_loss = eval_ce_loss(simple_dataset[-1], simple_labels[-1], baseline_sae_logit_fn)\n",
    "    results['ce_loss'] = ce_loss\n",
    "    results['method'] = method_name\n",
    "    results_list.append(results)\n",
    "\n",
    "# Method: GEMMA 9B WITH SAE Masked\n",
    "method_name = \"GEMMA 9B WITH SAE Masked\"\n",
    "with torch.no_grad():\n",
    "    results = sanity_check_model_performance(masked_logit_fn)\n",
    "    # Compute cross-entropy loss\n",
    "    ce_loss = eval_ce_loss(simple_dataset[-1], simple_labels[-1], masked_logit_fn)\n",
    "    results['ce_loss'] = ce_loss\n",
    "    results['method'] = method_name\n",
    "    results_list.append(results)\n",
    "\n",
    "# Create a DataFrame and display it with descriptive column names\n",
    "df = pd.DataFrame(results_list)\n",
    "df = df.set_index('method')  # Set 'method' as the index\n",
    "\n",
    "# Rename columns for better readability\n",
    "df = df.rename(columns={\n",
    "    'prob_correct_in_correct': 'P(Age|Correct Ex)',\n",
    "    'prob_error_in_correct': 'P(Traceback|Correct Ex)',\n",
    "    'logit_diff_correct': 'Logit Diff (Correct Ex)',\n",
    "    'prob_error_in_error': 'P(Traceback|Error Ex)',\n",
    "    'prob_correct_in_error': 'P(Age|Error Ex)',\n",
    "    'logit_diff_error': 'Logit Diff (Error Ex)',\n",
    "    'ce_loss': 'Cross-Entropy Loss'\n",
    "})\n",
    "\n",
    "# Display the DataFrame\n",
    "df\n"
   ]
  },
  {
   "cell_type": "markdown",
   "metadata": {},
   "source": [
    "# Group features by Correlations"
   ]
  },
  {
   "cell_type": "code",
   "execution_count": null,
   "metadata": {},
   "outputs": [],
   "source": [
    "load_sparsemask(\"0.025_run.json\")"
   ]
  },
  {
   "cell_type": "code",
   "execution_count": null,
   "metadata": {},
   "outputs": [
    {
     "data": {
      "text/plain": [
       "24"
      ]
     },
     "execution_count": 107,
     "metadata": {},
     "output_type": "execute_result"
    }
   ],
   "source": [
    "model.to_str_tokens(example).index(\"Emily\")"
   ]
  },
  {
   "cell_type": "code",
   "execution_count": null,
   "metadata": {},
   "outputs": [
    {
     "data": {
      "text/plain": [
       "'2'"
      ]
     },
     "execution_count": 108,
     "metadata": {},
     "output_type": "execute_result"
    }
   ],
   "source": [
    "model.to_str_tokens(example)[27]\n"
   ]
  },
  {
   "cell_type": "code",
   "execution_count": null,
   "metadata": {},
   "outputs": [
    {
     "data": {
      "text/plain": [
       "tensor([[     2,    480,    729, 235248, 235274, 235274]], device='cuda:0')"
      ]
     },
     "execution_count": 114,
     "metadata": {},
     "output_type": "execute_result"
    }
   ],
   "source": [
    "model.to_tokens(\"he was 11\")"
   ]
  },
  {
   "cell_type": "code",
   "execution_count": null,
   "metadata": {},
   "outputs": [
    {
     "data": {
      "text/plain": [
       "'<bos>Type \"help\", \"copyright\", \"credits\" or \"license\" for more information.\\n>>> age = {\\'Emily\\': 27, \\'James\\': 13, \\'Megan\\': 17, \\'Rob\\': 14, \\'Sam\\': 14}\\n>>> age[\"Emily\"]\\n'"
      ]
     },
     "execution_count": 120,
     "metadata": {},
     "output_type": "execute_result"
    }
   ],
   "source": [
    "example = simple_dataset[-2].clone()\n",
    "example[27] = 235284 # 2\n",
    "# example[28] = 235274 # 1\n",
    "model.to_string(example)\n"
   ]
  },
  {
   "cell_type": "code",
   "execution_count": null,
   "metadata": {},
   "outputs": [],
   "source": [
    "# 1. iterate over last 10 examples\n",
    "data = simple_dataset[-10:]\n",
    "cached_activations = []\n",
    "with torch.no_grad():\n",
    "    def model_forward_pass(tokens):\n",
    "        return model.run_with_hooks(\n",
    "            tokens, \n",
    "            return_type=\"logits\", \n",
    "            fwd_hooks=build_hooks_list(tokens, use_mask=True, binarize_mask=True, cache_masked_activations=True)\n",
    "            )\n",
    "    for example in data:\n",
    "        logits = model_forward_pass(example)\n",
    "        cache = {}\n",
    "        for sae in saes:\n",
    "            cache[sae.cfg.hook_name] = sae.feature_acts\n",
    "        cached_activations.append(cache)\n",
    "\n",
    "    # print(model.to_string(example))\n",
    "    # logits = model_forward_pass(example)\n",
    "    # # logits = model_forward_pass(model.to_tokens(\"The sky is\"))\n",
    "    # print(model.to_str_tokens(torch.topk(F.softmax(logits[:, -1, :], dim=-1), k=3).indices))\n",
    "    # print(torch.topk(F.softmax(logits[:, -1, :], dim=-1), k=3).values)"
   ]
  },
  {
   "cell_type": "code",
   "execution_count": null,
   "metadata": {},
   "outputs": [
    {
     "name": "stdout",
     "output_type": "stream",
     "text": [
      "(tensor([   75,  1575,  3231,  3524,  7008, 10180, 10647, 10768, 11635, 11740,\n",
      "        12571], device='cuda:0'),)\n",
      "<bos>Type \"help\", \"copyright\", \"credits\" or \"license\" for more information.\n",
      ">>> age = {'Sam': 11, 'Noah': 16, 'Megan': 19, 'Ava': 10, 'Lilly': 17}\n",
      ">>> age[\"Noah\"]\n",
      "\n",
      " age\n"
     ]
    }
   ],
   "source": [
    "idx = 0\n",
    "print(torch.where(cached_activations[0][\"blocks.7.hook_resid_post\"][0][-5]))\n",
    "\n",
    "\n",
    "print(model.to_string(data[0]))\n",
    "print(model.to_str_tokens(data[0])[-5])"
   ]
  },
  {
   "cell_type": "code",
   "execution_count": null,
   "metadata": {},
   "outputs": [
    {
     "data": {
      "text/plain": [
       "torch.Size([1, 65, 16384])"
      ]
     },
     "execution_count": 227,
     "metadata": {},
     "output_type": "execute_result"
    }
   ],
   "source": [
    "cached_activations[0][\"blocks.7.hook_resid_post\"].shape"
   ]
  },
  {
   "cell_type": "code",
   "execution_count": null,
   "metadata": {},
   "outputs": [
    {
     "name": "stdout",
     "output_type": "stream",
     "text": [
      "tensor([   75,   351,   488,   632,  1229,  1422,  1575,  1589,  1662,  1935,\n",
      "         1976,  2467,  2701,  2846,  2881,  3153,  3231,  3257,  3354,  3418,\n",
      "         3524,  3658,  3784,  3992,  4287,  5196,  5311,  5337,  5459,  5537,\n",
      "         5587,  5778,  6491,  6500,  6535,  6671,  6800,  6928,  6984,  7008,\n",
      "         7024,  7323,  7857,  7958,  8146,  8667,  8895,  9046,  9052,  9353,\n",
      "         9513,  9681,  9843,  9850, 10093, 10094, 10180, 10267, 10647, 10680,\n",
      "        10768, 10868, 11204, 11526, 11635, 11707, 11740, 12131, 12134, 12275,\n",
      "        12387, 12407, 12571, 12880, 12956, 13383, 13630, 13635, 13694, 14249,\n",
      "        14309, 14342, 14567, 14615, 14827, 15328, 15462, 15613, 15678, 15738,\n",
      "        15796], device='cuda:0')\n"
     ]
    }
   ],
   "source": [
    "keep_locations = torch.where(saes[0].mask.mask>0)[0]\n",
    "print(keep_locations)"
   ]
  },
  {
   "cell_type": "code",
   "execution_count": null,
   "metadata": {},
   "outputs": [],
   "source": [
    "block_seven_cache = torch.cat([cached_activations[i][\"blocks.7.hook_resid_post\"] for i in range(10)], dim=0)\n",
    "block_seven_cache = block_seven_cache[:, 1:, :].contiguous()\n",
    "block_seven_cache = block_seven_cache.view(-1, block_seven_cache.shape[-1])\n",
    "block_seven_cache = block_seven_cache[:, keep_locations]"
   ]
  },
  {
   "cell_type": "code",
   "execution_count": null,
   "metadata": {},
   "outputs": [
    {
     "data": {
      "text/plain": [
       "tensor([[18.6473,  0.0000,  0.0000,  ...,  0.0000,  0.0000,  0.0000],\n",
       "        [24.8756,  0.0000,  0.0000,  ...,  0.0000,  0.0000,  2.8846],\n",
       "        [12.3906,  0.0000,  0.0000,  ...,  0.0000,  0.0000,  8.3760],\n",
       "        ...,\n",
       "        [16.4783,  0.0000,  0.0000,  ...,  0.0000,  0.0000,  0.0000],\n",
       "        [22.2913,  0.0000,  0.0000,  ...,  0.0000,  0.0000,  0.0000],\n",
       "        [21.7554,  0.0000,  0.0000,  ...,  0.0000,  0.0000,  0.0000]],\n",
       "       device='cuda:0')"
      ]
     },
     "execution_count": 230,
     "metadata": {},
     "output_type": "execute_result"
    }
   ],
   "source": [
    "block_seven_cache"
   ]
  }
 ],
 "metadata": {
  "kernelspec": {
   "display_name": "Python 3",
   "language": "python",
   "name": "python3"
  },
  "language_info": {
   "codemirror_mode": {
    "name": "ipython",
    "version": 3
   },
   "file_extension": ".py",
   "mimetype": "text/x-python",
   "name": "python",
   "nbconvert_exporter": "python",
   "pygments_lexer": "ipython3",
   "version": "3.10.12"
  }
 },
 "nbformat": 4,
 "nbformat_minor": 2
}
