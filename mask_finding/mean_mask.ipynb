{
 "cells": [
  {
   "cell_type": "code",
   "execution_count": 1,
   "metadata": {},
   "outputs": [
    {
     "name": "stderr",
     "output_type": "stream",
     "text": [
      "WARNING:root:You tried to specify center_unembed=True for a model using logit softcap, but this can't be done! Softcapping is not invariant upon adding a constantSetting center_unembed=False instead.\n"
     ]
    },
    {
     "name": "stdout",
     "output_type": "stream",
     "text": [
      "Device: cuda\n"
     ]
    },
    {
     "data": {
      "application/vnd.jupyter.widget-view+json": {
       "model_id": "be8e3a176e7c4b49985880a73c35e2c3",
       "version_major": 2,
       "version_minor": 0
      },
      "text/plain": [
       "Loading checkpoint shards:   0%|          | 0/8 [00:00<?, ?it/s]"
      ]
     },
     "metadata": {},
     "output_type": "display_data"
    },
    {
     "name": "stderr",
     "output_type": "stream",
     "text": [
      "WARNING:root:You are not using LayerNorm, so the writing weights can't be centered! Skipping\n"
     ]
    },
    {
     "name": "stdout",
     "output_type": "stream",
     "text": [
      "Loaded pretrained model google/gemma-2-9b into HookedTransformer\n"
     ]
    }
   ],
   "source": [
    "# %%\n",
    "import os\n",
    "import gc\n",
    "import torch\n",
    "os.chdir(\"/work/pi_jensen_umass_edu/jnainani_umass_edu/CircuitAnalysisSAEs\")\n",
    "import json\n",
    "from sae_lens import SAE, HookedSAETransformer\n",
    "from circ4latents import data_gen\n",
    "from functools import partial\n",
    "import einops\n",
    "\n",
    "# Function to manage CUDA memory and clean up\n",
    "def cleanup_cuda():\n",
    "   torch.cuda.empty_cache()\n",
    "   gc.collect()\n",
    "# cleanup_cuda()\n",
    "# Load the config\n",
    "with open(\"config.json\", 'r') as file:\n",
    "   config = json.load(file)\n",
    "token = config.get('huggingface_token', None)\n",
    "os.environ[\"HF_TOKEN\"] = token\n",
    "\n",
    "# Define device\n",
    "device = \"cuda\" if torch.cuda.is_available() else \"cpu\"\n",
    "print(f\"Device: {device}\")\n",
    "\n",
    "hf_cache = \"/work/pi_jensen_umass_edu/jnainani_umass_edu/mechinterp/huggingface_cache/hub\"\n",
    "os.environ[\"HF_HOME\"] = hf_cache\n",
    "\n",
    "# Load the model\n",
    "model = HookedSAETransformer.from_pretrained(\"google/gemma-2-9b\", device=device, cache_dir=hf_cache)"
   ]
  },
  {
   "cell_type": "code",
   "execution_count": 2,
   "metadata": {},
   "outputs": [],
   "source": [
    "layers= [7, 14, 21, 40]\n",
    "l0s = [92, 67, 129, 125]\n",
    "saes = [SAE.from_pretrained(release=\"gemma-scope-9b-pt-res\", sae_id=f\"layer_{layers[i]}/width_16k/average_l0_{l0s[i]}\", device=device)[0] for i in range(len(layers))]"
   ]
  },
  {
   "cell_type": "markdown",
   "metadata": {},
   "source": [
    "# Data Gen"
   ]
  },
  {
   "cell_type": "code",
   "execution_count": 3,
   "metadata": {},
   "outputs": [
    {
     "name": "stdout",
     "output_type": "stream",
     "text": [
      "clean_diff: 6.536237716674805\n",
      "corr_diff: -6.750219345092773\n"
     ]
    }
   ],
   "source": [
    "# %%\n",
    "# Updated version to return JSON with more names and structure for correct and incorrect keying examples\n",
    "\n",
    "import json\n",
    "import random\n",
    "\n",
    "# Expanding the name pool with a larger set of names\n",
    "extended_name_pool = [\n",
    "    \"Bob\", \"Sam\", \"Lilly\", \"Rob\", \"Alice\", \"Charlie\", \"Sally\", \"Tom\", \"Jake\", \"Emily\", \n",
    "    \"Megan\", \"Chris\", \"Sophia\", \"James\", \"Oliver\", \"Isabella\", \"Mia\", \"Jackson\", \n",
    "    \"Emma\", \"Ava\", \"Lucas\", \"Benjamin\", \"Ethan\", \"Grace\", \"Olivia\", \"Liam\", \"Noah\"\n",
    "]\n",
    "\n",
    "for name in extended_name_pool:\n",
    "    assert len(model.tokenizer.encode(name)) == 2, f\"Name {name} has more than 1 token\"\n",
    "\n",
    "# Function to generate the dataset with correct and incorrect keying into dictionaries\n",
    "def generate_extended_dataset(name_pool, num_samples=5):\n",
    "    dataset = []\n",
    "    \n",
    "    for _ in range(num_samples):\n",
    "        # Randomly select 5 names from the pool\n",
    "        selected_names = random.sample(name_pool, 5)\n",
    "        # Assign random ages to the selected names\n",
    "        age_dict = {name: random.randint(10, 19) for name in selected_names}\n",
    "        \n",
    "        # Create a correct example\n",
    "        correct_name = random.choice(list(age_dict.keys()))\n",
    "        correct_prompt = f'Type \"help\", \"copyright\", \"credits\" or \"license\" for more information.\\n>>> age = {age_dict}\\n>>> print(age[\"{correct_name}\"])\\n'\n",
    "        correct_response = age_dict[correct_name]\n",
    "        correct_token = str(correct_response)[0]\n",
    "        \n",
    "        # Create an incorrect example with a name not in the dictionary\n",
    "        incorrect_name = random.choice([name for name in name_pool if name not in age_dict])\n",
    "        incorrect_prompt = f'Type \"help\", \"copyright\", \"credits\" or \"license\" for more information.\\n>>> age = {age_dict}\\n>>> print(age[\"{incorrect_name}\"])\\n'\n",
    "        incorrect_response = \"Traceback\"\n",
    "        incorrect_token = \"Traceback\"\n",
    "        \n",
    "        # Append the pair of correct and incorrect examples\n",
    "        dataset.append({\n",
    "            \"correct\": {\n",
    "                \"prompt\": correct_prompt,\n",
    "                \"response\": correct_response,\n",
    "                \"token\": correct_token\n",
    "            },\n",
    "            \"error\": {\n",
    "                \"prompt\": incorrect_prompt,\n",
    "                \"response\": incorrect_response,\n",
    "                \"token\": incorrect_token\n",
    "            }\n",
    "        })\n",
    "        \n",
    "    return dataset\n",
    "\n",
    "# Generate the extended dataset\n",
    "json_dataset = generate_extended_dataset(extended_name_pool, num_samples=10000)\n",
    "\n",
    "# Output the JSON structure\n",
    "\n",
    "# %%\n",
    "clean_prompts = []\n",
    "corr_prompts = []\n",
    "\n",
    "answer_token = model.to_single_token(\"1\")\n",
    "traceback_token = model.to_single_token(\"Traceback\")\n",
    "\n",
    "for item in json_dataset[:50]:\n",
    "    corr_prompts.append(item[\"correct\"][\"prompt\"])\n",
    "    clean_prompts.append(item[\"error\"][\"prompt\"])\n",
    "\n",
    "clean_tokens = model.to_tokens(clean_prompts)\n",
    "corr_tokens = model.to_tokens(corr_prompts)\n",
    "\n",
    "# %%\n",
    "def logit_diff_fn(logits):\n",
    "    err = logits[:, -1, traceback_token]\n",
    "    no_err = logits[:, -1, answer_token]\n",
    "    return (err - no_err).mean()\n",
    "\n",
    "# Disable gradients for all parameters\n",
    "for param in model.parameters():\n",
    "   param.requires_grad_(False)\n",
    "\n",
    "# # Compute logits for clean and corrupted samples\n",
    "logits = model(clean_tokens)\n",
    "clean_diff = logit_diff_fn(logits)\n",
    "\n",
    "logits = model(corr_tokens)\n",
    "corr_diff = logit_diff_fn(logits)\n",
    "\n",
    "print(f\"clean_diff: {clean_diff}\")\n",
    "print(f\"corr_diff: {corr_diff}\")\n",
    "\n",
    "# # Cleanup\n",
    "del logits\n",
    "cleanup_cuda()\n",
    "\n",
    "# # Define error type metric\n",
    "def _err_type_metric(logits, clean_logit_diff, corr_logit_diff):\n",
    "    patched_logit_diff = logit_diff_fn(logits)\n",
    "    return (patched_logit_diff - corr_logit_diff) / (clean_logit_diff - corr_logit_diff)\n",
    "\n",
    "err_metric_denoising = partial(_err_type_metric, clean_logit_diff=clean_diff, corr_logit_diff=corr_diff)"
   ]
  },
  {
   "cell_type": "code",
   "execution_count": 4,
   "metadata": {},
   "outputs": [],
   "source": [
    "simple_dataset = []\n",
    "simple_labels = []\n",
    "answer_token = model.to_single_token(\"1\")\n",
    "traceback_token = model.to_single_token(\"Traceback\")\n",
    "for item in json_dataset:\n",
    "    simple_dataset.append(item[\"correct\"][\"prompt\"])\n",
    "    simple_dataset.append(item[\"error\"][\"prompt\"])\n",
    "    simple_labels.append(answer_token)\n",
    "    simple_labels.append(traceback_token)\n",
    "simple_dataset = model.to_tokens(simple_dataset)\n",
    "simple_labels = torch.tensor(simple_labels)\n",
    "permutation = torch.randperm(len(simple_dataset))\n",
    "simple_dataset = simple_dataset[permutation]\n",
    "simple_labels = simple_labels[permutation]"
   ]
  },
  {
   "cell_type": "code",
   "execution_count": 4,
   "metadata": {},
   "outputs": [],
   "source": [
    "# simple_dataset = []\n",
    "# simple_labels = []\n",
    "clean_dataset = []\n",
    "corr_dataset = []\n",
    "clean_labels = []\n",
    "corr_labels = []\n",
    "\n",
    "answer_token = model.to_single_token(\"1\")\n",
    "traceback_token = model.to_single_token(\"Traceback\")\n",
    "\n",
    "for item in json_dataset:\n",
    "    clean_dataset.append(item[\"error\"][\"prompt\"])\n",
    "    corr_dataset.append(item[\"correct\"][\"prompt\"])\n",
    "    clean_labels.append(traceback_token)\n",
    "    corr_labels.append(answer_token)\n",
    "\n",
    "\n",
    "clean_tok_dataset = model.to_tokens(clean_dataset)\n",
    "clean_labels = torch.tensor(clean_labels)\n",
    "\n",
    "corr_tok_dataset = model.to_tokens(corr_dataset)\n",
    "corr_labels = torch.tensor(corr_labels)\n"
   ]
  },
  {
   "cell_type": "code",
   "execution_count": 35,
   "metadata": {},
   "outputs": [],
   "source": [
    "permutation = torch.randperm(len(clean_tok_dataset))\n",
    "clean_tok_dataset = clean_tok_dataset[permutation]\n",
    "clean_labels = clean_labels[permutation]\n",
    "\n",
    "corr_tok_dataset = corr_tok_dataset[permutation]\n",
    "corr_labels = corr_labels[permutation]"
   ]
  },
  {
   "cell_type": "markdown",
   "metadata": {},
   "source": [
    "# Sparse Mask Definition"
   ]
  },
  {
   "cell_type": "code",
   "execution_count": 5,
   "metadata": {},
   "outputs": [],
   "source": [
    "import signal\n",
    "import torch.nn as nn\n",
    "class KeyboardInterruptBlocker:\n",
    "    def __enter__(self):\n",
    "        # Ignore SIGINT (KeyboardInterrupt) and save the old handler\n",
    "        self.original_handler = signal.signal(signal.SIGINT, signal.SIG_IGN)\n",
    "\n",
    "    def __exit__(self, exc_type, exc_value, traceback):\n",
    "        # Restore the original SIGINT handler\n",
    "        signal.signal(signal.SIGINT, self.original_handler)\n",
    "\n",
    "class SparseMask(nn.Module):\n",
    "    def __init__(self, shape, l1, seq_len=None):\n",
    "        super().__init__()\n",
    "        if seq_len is not None:\n",
    "            self.mask = nn.Parameter(torch.ones(seq_len, shape))\n",
    "        else:\n",
    "            self.mask = nn.Parameter(torch.ones(shape))\n",
    "        self.l1 = l1\n",
    "        self.max_temp = torch.tensor(1000.0)\n",
    "        self.sparsity_loss = None\n",
    "        self.ratio_trained = 1\n",
    "        self.temperature = 1\n",
    "\n",
    "\n",
    "    def forward(self, x, binary=False, mean_ablation=None):\n",
    "        if binary and mean_ablation is not None:\n",
    "            binarized = (self.mask > 0).float().to(x.device)\n",
    "            return x * binarized + mean_ablation * (~binarized.bool())\n",
    "        if binary:\n",
    "            # binary mask, 0 if negative, 1 if positive\n",
    "            binarized = (self.mask > 0).float()\n",
    "            return x * binarized\n",
    "        \n",
    "        self.temperature = self.max_temp ** self.ratio_trained\n",
    "        mask = torch.sigmoid(self.mask * self.temperature)\n",
    "        self.sparsity_loss = torch.abs(mask).sum() * self.l1\n",
    "\n",
    "        if mean_ablation is None:\n",
    "            return x * mask\n",
    "        else:\n",
    "            return x * mask + mean_ablation * (~mask.bool())\n",
    "\n",
    "for sae in saes:\n",
    "    sae.mask = SparseMask(sae.cfg.d_sae, 1.0, seq_len=67)\n"
   ]
  },
  {
   "cell_type": "code",
   "execution_count": 6,
   "metadata": {},
   "outputs": [],
   "source": [
    "\n",
    "def apply_mask(mask_idxs, sae):\n",
    "    mask = torch.full_like(sae.mask.mask, -10)\n",
    "    mask[mask_idxs] = 10\n",
    "    sae.mask.mask.data = mask\n",
    "\n",
    "def load_sparsemask(mask_path):\n",
    "    json_mask = json.load(open(mask_path))\n",
    "    for sae in saes:\n",
    "        apply_mask(json_mask[sae.cfg.hook_name], sae)\n",
    "\n",
    "bos_token_id = model.tokenizer.bos_token_id\n",
    "pad_token_id = model.tokenizer.pad_token_id\n",
    "def build_sae_hook_fn(sae, sequence, cache_grads=False, circuit_mask=None, use_mask=False, binarize_mask=False, cache_masked_activations=False, cache_sae_activations=False, mean_ablate=False, mean_mask=False):\n",
    "    # make the mask for the sequence\n",
    "    mask = torch.ones_like(sequence, dtype=torch.bool)\n",
    "    mask[sequence == pad_token_id] = False\n",
    "    mask[sequence == bos_token_id] = False # where mask is false, keep original\n",
    "    def sae_hook(value, hook):\n",
    "        # print(f\"sae {sae.cfg.hook_name} running at layer {hook.layer()}\")\n",
    "        feature_acts = sae.encode(value)\n",
    "        if cache_grads:\n",
    "            sae.feature_acts = feature_acts\n",
    "            sae.feature_acts.retain_grad()\n",
    "        \n",
    "        if cache_sae_activations:\n",
    "            sae.feature_acts = feature_acts.detach().clone()\n",
    "        \n",
    "        if use_mask:\n",
    "            if mean_mask:\n",
    "                feature_acts = sae.mask(feature_acts, binary=binarize_mask, mean_ablation=sae.mean_ablation)\n",
    "            else:\n",
    "                feature_acts = sae.mask(feature_acts, binary=binarize_mask)\n",
    "\n",
    "        if circuit_mask is not None:\n",
    "            mask_method = circuit_mask['mask_method']\n",
    "            mask_indices = circuit_mask[sae.cfg.hook_name]\n",
    "            if mask_method == 'keep_only':\n",
    "                # any activations not in the mask are set to 0\n",
    "                expanded_circuit_mask = torch.zeros_like(feature_acts)\n",
    "                expanded_circuit_mask[:, :, mask_indices] = 1\n",
    "                feature_acts = feature_acts * expanded_circuit_mask\n",
    "            elif mask_method == 'zero_only':\n",
    "                feature_acts[:, :, mask_indices] = 0\n",
    "            else:\n",
    "                raise ValueError(f\"mask_method {mask_method} not recognized\")\n",
    "            \n",
    "        if cache_masked_activations:\n",
    "            sae.feature_acts = feature_acts.detach().clone()\n",
    "        if mean_ablate:\n",
    "            feature_acts = sae.mean_ablation\n",
    "\n",
    "        out = sae.decode(feature_acts)\n",
    "        # choose out or value based on the mask\n",
    "        mask_expanded = mask.unsqueeze(-1).expand_as(value)\n",
    "        value = torch.where(mask_expanded, out, value)\n",
    "        return value\n",
    "    return sae_hook\n",
    "\n",
    "def build_hooks_list(sequence,\n",
    "                    cache_sae_activations=False,\n",
    "                    cache_sae_grads=False,\n",
    "                    circuit_mask=None,\n",
    "                    use_mask=False,\n",
    "                    binarize_mask=False,\n",
    "                    mean_mask=False,\n",
    "                    cache_masked_activations=False,\n",
    "                    mean_ablate=False,\n",
    "                    ):\n",
    "    hooks = []\n",
    "    # # fake hook that adds zero so gradients propagate through the model\n",
    "    param = nn.Parameter(torch.tensor(0.0, requires_grad=True))\n",
    "    hooks.append(\n",
    "        (\n",
    "            \"blocks.0.hook_resid_pre\",\n",
    "            lambda value, hook: value + param,\n",
    "        )\n",
    "    )\n",
    "    for sae in saes:\n",
    "        hooks.append(\n",
    "            (\n",
    "            sae.cfg.hook_name,\n",
    "            build_sae_hook_fn(sae, sequence, cache_grads=cache_sae_grads, circuit_mask=circuit_mask, use_mask=use_mask, binarize_mask=binarize_mask, cache_masked_activations=cache_masked_activations, cache_sae_activations=cache_sae_activations, mean_ablate=mean_ablate, mean_mask=mean_mask),\n",
    "            )\n",
    "        )\n",
    "    return hooks \n",
    "\n",
    "import gc\n",
    "def cleanup_cuda():\n",
    "    torch.cuda.empty_cache()\n",
    "    gc.collect()\n"
   ]
  },
  {
   "cell_type": "code",
   "execution_count": 7,
   "metadata": {},
   "outputs": [],
   "source": [
    "with torch.no_grad():\n",
    "    def logitfn(tokens):\n",
    "        return model.run_with_hooks(\n",
    "            tokens,\n",
    "            return_type=\"logits\",\n",
    "            fwd_hooks=build_hooks_list(tokens, cache_sae_activations=True)\n",
    "            )\n",
    "    # logits = logitfn(corr_tokens)\n",
    "    # for sae in saes:\n",
    "    #     print(sae.feature_acts.shape)\n",
    "    # del logits\n",
    "    # cleanup_cuda()"
   ]
  },
  {
   "cell_type": "markdown",
   "metadata": {},
   "source": [
    "# Token Level Running Mean"
   ]
  },
  {
   "cell_type": "code",
   "execution_count": 58,
   "metadata": {},
   "outputs": [],
   "source": [
    "from tqdm import tqdm\n",
    "def running_mean_tensor(old_mean, new_value, n):\n",
    "    \"\"\"Update the running mean tensor using the current batch.\"\"\"\n",
    "    return old_mean + (new_value - old_mean) / n\n",
    "def get_sae_means(saes, dataset, total_steps, batch_size=16):\n",
    "    \"\"\"\n",
    "    Compute token-level means across the dataset in a batched manner.\n",
    "    Args:\n",
    "        dataset (Tensor): The input dataset of tokenized data.\n",
    "        total_steps (int): Number of steps to process.\n",
    "        batch_size (int): Number of examples per batch.\n",
    "    \"\"\"\n",
    "    for sae in saes:\n",
    "        # Initialize mean_ablation with correct shape\n",
    "        sae.mean_ablation = torch.zeros((dataset[0].shape[0], sae.cfg.d_sae)).float().to(device)\n",
    "    total_samples = len(dataset)\n",
    "    num_batches = (total_samples + batch_size - 1) // batch_size  # Calculate number of batches\n",
    "    with tqdm(total=min(total_steps, num_batches), desc=\"Mean Accum Progress\") as pbar:\n",
    "        sample_count = 0  # To track total number of samples processed\n",
    "        for i in range(0, total_samples, batch_size):\n",
    "            # Batch selection\n",
    "            batch_x = dataset[i:i+batch_size]\n",
    "            with torch.no_grad():\n",
    "                _ = logitfn(batch_x)  # Get logits (forward pass)\n",
    "                for sae in saes:\n",
    "                    # Compute batch mean over tokens\n",
    "                    batch_mean = sae.feature_acts.mean(dim=0)  # Mean across the batch\n",
    "                    sample_count += 1 # len(batch_x)  # Update sample count\n",
    "                    # Update running mean tensor\n",
    "                    sae.mean_ablation = running_mean_tensor(\n",
    "                        sae.mean_ablation,\n",
    "                        batch_mean,\n",
    "                        sample_count\n",
    "                    )\n",
    "            pbar.update(1)  # Update progress bar\n",
    "            # Stop if we've processed enough steps\n",
    "            if i // batch_size >= total_steps:\n",
    "                break\n",
    "            del batch_mean\n",
    "            cleanup_cuda()\n",
    "# get_sae_means(saes, corr_tok_dataset, 5, batch_size=16)"
   ]
  },
  {
   "cell_type": "markdown",
   "metadata": {},
   "source": [
    "# Completeness"
   ]
  },
  {
   "cell_type": "code",
   "execution_count": 9,
   "metadata": {},
   "outputs": [],
   "source": [
    "mean_circuit = {\"blocks.7.hook_resid_post\": [10768, 11635], \"blocks.14.hook_resid_post\": [2576, 4811, 4834, 6868, 8746, 9066, 12929, 15603], \"blocks.21.hook_resid_post\": [52, 534, 712, 1197, 1408, 3076, 5066, 7015, 7762, 8082, 8615, 9551, 9663, 10003, 10824, 11416, 11455, 12314, 12598, 14515], \"blocks.40.hook_resid_post\": [215, 266, 637, 1073, 1322, 1435, 2295, 2493, 2534, 2664, 2881, 2964, 2996, 3960, 4501, 4603, 4689, 4769, 5862, 7622, 7792, 8416, 8778, 9230, 9309, 9682, 10155, 10628, 10936, 11066, 11103, 11579, 11706, 11754, 11839, 12258, 12988, 13095, 13113, 13479, 14423, 15628, 15851], \"total_density\": 73.0, \"avg_density\": 18.25, \"ce_loss\": 0.5223647356033325}"
   ]
  },
  {
   "cell_type": "code",
   "execution_count": 10,
   "metadata": {},
   "outputs": [
    {
     "name": "stdout",
     "output_type": "stream",
     "text": [
      "[10768, 11635]\n",
      "torch.Size([67, 16384])\n",
      "[2576, 4811, 4834, 6868, 8746, 9066, 12929, 15603]\n",
      "torch.Size([67, 16384])\n",
      "[52, 534, 712, 1197, 1408, 3076, 5066, 7015, 7762, 8082, 8615, 9551, 9663, 10003, 10824, 11416, 11455, 12314, 12598, 14515]\n",
      "torch.Size([67, 16384])\n",
      "[215, 266, 637, 1073, 1322, 1435, 2295, 2493, 2534, 2664, 2881, 2964, 2996, 3960, 4501, 4603, 4689, 4769, 5862, 7622, 7792, 8416, 8778, 9230, 9309, 9682, 10155, 10628, 10936, 11066, 11103, 11579, 11706, 11754, 11839, 12258, 12988, 13095, 13113, 13479, 14423, 15628, 15851]\n",
      "torch.Size([67, 16384])\n"
     ]
    }
   ],
   "source": [
    "for ind, layer in enumerate(layers):\n",
    "    print(mean_circuit[f\"blocks.{layer}.hook_resid_post\"])\n",
    "    og_mask = torch.ones_like(saes[ind].mask.mask.data).float().to(device)\n",
    "    print(og_mask.shape)"
   ]
  },
  {
   "cell_type": "code",
   "execution_count": 11,
   "metadata": {},
   "outputs": [],
   "source": [
    "import torch\n",
    "\n",
    "# Number of elements to remove from the last dimension\n",
    "num_remove = 5\n",
    "\n",
    "# Number of batches to process\n",
    "num_batches = 3  # Adjust this as needed\n",
    "batch_size = 16  # Batch size for processing\n",
    "\n",
    "# Remove random subsets of the mask along the [-1] dimension\n",
    "def get_indices_to_remove(mask, num_remove):\n",
    "    active_indices = (mask > 0).nonzero(as_tuple=True)[-1]  # Get indices of active elements in the last dimension\n",
    "    if len(active_indices) < num_remove:\n",
    "        raise ValueError(\"Not enough active elements to remove.\")\n",
    "    indices_to_remove = active_indices[torch.randperm(len(active_indices))[:num_remove]].to(mask.device)  # Move to the same device\n",
    "    return indices_to_remove\n",
    "\n",
    "def apply_subset_removal(mask, indices_to_remove):\n",
    "    indices_to_remove = indices_to_remove.to(mask.device)  # Ensure indices are on the same device\n",
    "    modified_mask = mask.clone()\n",
    "    modified_mask.index_fill_(-1, indices_to_remove, 0)  # Set selected elements to 0\n",
    "    return modified_mask"
   ]
  },
  {
   "cell_type": "code",
   "execution_count": 48,
   "metadata": {},
   "outputs": [
    {
     "data": {
      "text/plain": [
       "tensor(6.7203, device='cuda:0')"
      ]
     },
     "execution_count": 48,
     "metadata": {},
     "output_type": "execute_result"
    }
   ],
   "source": [
    "def adaptive_logit_diff(logits, labels):\n",
    "    val1, val2 = 175843, 235274\n",
    "    inv_labels = torch.where(labels == val1, val2, val1)\n",
    "    correct_logits = logits[torch.arange(logits.shape[0]), -1, labels]\n",
    "    incorrect_logits = logits[torch.arange(logits.shape[0]), -1, inv_labels]\n",
    "    return (correct_logits - incorrect_logits).mean()\n",
    "\n",
    "batch_data = simple_dataset[:16]\n",
    "batch_labels = simple_labels[:16]\n",
    "with torch.no_grad():\n",
    "    logits = model(batch_data)\n",
    "    full_model_logit_diff = adaptive_logit_diff(logits, batch_labels)\n",
    "    del logits\n",
    "    cleanup_cuda()\n",
    "full_model_logit_diff"
   ]
  },
  {
   "cell_type": "code",
   "execution_count": 34,
   "metadata": {},
   "outputs": [
    {
     "name": "stderr",
     "output_type": "stream",
     "text": [
      "Mean Accum Progress: 6it [00:08,  1.36s/it]                       \n"
     ]
    }
   ],
   "source": [
    "get_sae_means(saes, simple_dataset, 5, batch_size=16)"
   ]
  },
  {
   "cell_type": "code",
   "execution_count": 35,
   "metadata": {},
   "outputs": [
    {
     "name": "stdout",
     "output_type": "stream",
     "text": [
      "tensor(2.3029, device='cuda:0', grad_fn=<MeanBackward0>)\n"
     ]
    }
   ],
   "source": [
    "for ind, layer in enumerate(layers):\n",
    "    og_mask = torch.ones_like(saes[ind].mask.mask.data).float().to(device)\n",
    "    complement_set = torch.tensor(list(set(range(saes[ind].cfg.d_sae)) - set(mean_circuit[f\"blocks.{layer}.hook_resid_post\"])))\n",
    "    saes[ind].mask.mask.data = apply_subset_removal(og_mask, complement_set).to(device)\n",
    "logits = model.run_with_hooks(\n",
    "                batch_data,\n",
    "                return_type=\"logits\",\n",
    "                fwd_hooks=build_hooks_list(\n",
    "                    batch_data, \n",
    "                    cache_sae_activations=False, \n",
    "                    use_mask=True, \n",
    "                    binarize_mask=True, \n",
    "                    mean_mask=True\n",
    "                )\n",
    "            )\n",
    "print(adaptive_logit_diff(logits, batch_labels))\n"
   ]
  },
  {
   "cell_type": "code",
   "execution_count": 22,
   "metadata": {},
   "outputs": [
    {
     "name": "stdout",
     "output_type": "stream",
     "text": [
      "[10768, 11635]\n",
      "[2576, 4811, 4834, 6868, 8746, 9066, 12929, 15603]\n",
      "[52, 534, 712, 1197, 1408, 3076, 5066, 7015, 7762, 8082, 8615, 9551, 9663, 10003, 10824, 11416, 11455, 12314, 12598, 14515]\n",
      "[215, 266, 637, 1073, 1322, 1435, 2295, 2493, 2534, 2664, 2881, 2964, 2996, 3960, 4501, 4603, 4689, 4769, 5862, 7622, 7792, 8416, 8778, 9230, 9309, 9682, 10155, 10628, 10936, 11066, 11103, 11579, 11706, 11754, 11839, 12258, 12988, 13095, 13113, 13479, 14423, 15628, 15851]\n"
     ]
    }
   ],
   "source": [
    "for ind, layer in enumerate(layers):\n",
    "    og_mask = torch.ones_like(saes[ind].mask.mask.data).float().to(device)\n",
    "    complement_set = torch.tensor(list(set(range(saes[ind].cfg.d_sae)) - set(mean_circuit[f\"blocks.{layer}.hook_resid_post\"])))\n",
    "    saes[ind].mask.mask.data = apply_subset_removal(og_mask, complement_set).to(device)\n",
    "\n",
    "batch_data = simple_dataset[:16]\n",
    "logits = model.run_with_hooks(\n",
    "                batch_data,\n",
    "                return_type=\"logits\",\n",
    "                fwd_hooks=build_hooks_list(\n",
    "                    batch_data, \n",
    "                    cache_sae_activations=False, \n",
    "                    use_mask=True, \n",
    "                    binarize_mask=True, \n",
    "                    mean_mask=True\n",
    "                )\n",
    "            )\n"
   ]
  },
  {
   "cell_type": "code",
   "execution_count": 12,
   "metadata": {},
   "outputs": [
    {
     "data": {
      "text/plain": [
       "tensor([ 4016, 10878,  7167,  6278,  7607])"
      ]
     },
     "execution_count": 12,
     "metadata": {},
     "output_type": "execute_result"
    }
   ],
   "source": [
    "get_indices_to_remove(saes[0].mask.mask.data, 5)"
   ]
  },
  {
   "cell_type": "code",
   "execution_count": 21,
   "metadata": {},
   "outputs": [
    {
     "name": "stdout",
     "output_type": "stream",
     "text": [
      "215\n"
     ]
    }
   ],
   "source": [
    "complement_set = list(set(range(saes[0].cfg.d_sae)) - set(mean_circuit[f\"blocks.{layer}.hook_resid_post\"]))\n",
    "for i in range(300):\n",
    "    if complement_set[i] != i:\n",
    "        print(i)\n",
    "        break"
   ]
  },
  {
   "cell_type": "code",
   "execution_count": 65,
   "metadata": {},
   "outputs": [
    {
     "name": "stderr",
     "output_type": "stream",
     "text": [
      "Mean Accum Progress: 16it [00:22,  1.42s/it]                        \n"
     ]
    }
   ],
   "source": [
    "# Number of batches to process\n",
    "num_batches = 15  # Adjust this as needed\n",
    "batch_size = 16  # Batch size for processing\n",
    "\n",
    "# # Circuit (random temporary mask)\n",
    "for sae in saes:\n",
    "    sae.original_mask = SparseMask(sae.cfg.d_sae, l1=1.0, seq_len=67)\n",
    "    with torch.no_grad():\n",
    "        sae.original_mask.mask.data = torch.randint(0, 2, sae.original_mask.mask.shape).float().to(device)\n",
    "\n",
    "# Generate means for the corrupted distribution\n",
    "get_sae_means(saes, simple_dataset, num_batches, batch_size=batch_size)"
   ]
  },
  {
   "cell_type": "code",
   "execution_count": 66,
   "metadata": {},
   "outputs": [],
   "source": [
    "# Helper function for batched processing\n",
    "def calculate_logit_diff(data, labels, n_batches, batch_size, use_sae):\n",
    "    total_logit_diff = 0.0\n",
    "    for batch_idx in range(n_batches):\n",
    "        # Get the batch data\n",
    "        batch_data = data[batch_idx * batch_size : (batch_idx + 1) * batch_size]\n",
    "        # print(batch_data.shape)\n",
    "        batch_labels = labels[batch_idx * batch_size : (batch_idx + 1) * batch_size]\n",
    "        with torch.no_grad():\n",
    "            \n",
    "            if use_sae:\n",
    "                logits = model.run_with_hooks(\n",
    "                    batch_data,\n",
    "                    return_type=\"logits\",\n",
    "                    fwd_hooks=build_hooks_list(\n",
    "                        batch_data, \n",
    "                        cache_sae_activations=False, \n",
    "                        use_mask=True, \n",
    "                        binarize_mask=True, \n",
    "                        mean_mask=True\n",
    "                    )\n",
    "                )\n",
    "            else: \n",
    "                logits = model(batch_data)\n",
    "            logit_diff = adaptive_logit_diff(logits, batch_labels).item()\n",
    "            total_logit_diff += logit_diff\n",
    "            del logits\n",
    "            cleanup_cuda()\n",
    "    # Return the average logit difference across batches\n",
    "    return total_logit_diff / n_batches\n",
    "\n",
    "# Calculate logit diff for clean and corrupted masks\n",
    "batch_clean_data = simple_dataset[:batch_size * num_batches]\n",
    "batch_clean_labels = simple_labels[:batch_size * num_batches]\n",
    "cleanup_cuda()"
   ]
  },
  {
   "cell_type": "code",
   "execution_count": 67,
   "metadata": {},
   "outputs": [
    {
     "name": "stdout",
     "output_type": "stream",
     "text": [
      "Full model logit diff: 6.6416096687316895\n",
      "Model logit diff: 5.071461900075277\n",
      "Circuit logit diff: 1.2142028570175172\n"
     ]
    }
   ],
   "source": [
    "# Full model logit diff \n",
    "full_model_logit_diff = calculate_logit_diff(batch_clean_data, batch_clean_labels, num_batches, batch_size, use_sae=False)\n",
    "print(f\"Full model logit diff: {full_model_logit_diff}\")\n",
    "\n",
    "# Model logit diff (All ones mask)\n",
    "for sae in saes:\n",
    "    with torch.no_grad():\n",
    "        sae.mask.mask.data = torch.ones_like(sae.mask.mask.data).float().to(device)\n",
    "model_logit_diff = calculate_logit_diff(batch_clean_data, batch_clean_labels, num_batches, batch_size, use_sae=True)\n",
    "print(f\"Model logit diff: {model_logit_diff}\")\n",
    "\n",
    "# # Circuit logit diff (Original mask)\n",
    "for ind, layer in enumerate(layers):\n",
    "    og_mask = torch.ones_like(saes[ind].mask.mask.data).float().to(device)\n",
    "    complement_set = torch.tensor(list(set(range(saes[ind].cfg.d_sae)) - set(mean_circuit[f\"blocks.{layer}.hook_resid_post\"])))\n",
    "    saes[ind].mask.mask.data = apply_subset_removal(og_mask, complement_set).to(device)\n",
    "    saes[ind].original_mask.mask.data = saes[ind].mask.mask.data.clone()\n",
    "\n",
    "circuit_logit_diff = calculate_logit_diff(batch_clean_data, batch_clean_labels, num_batches, batch_size, use_sae=True)\n",
    "print(f\"Circuit logit diff: {circuit_logit_diff}\")"
   ]
  },
  {
   "cell_type": "code",
   "execution_count": 68,
   "metadata": {},
   "outputs": [
    {
     "data": {
      "text/plain": [
       "0.18281755742646444"
      ]
     },
     "execution_count": 68,
     "metadata": {},
     "output_type": "execute_result"
    }
   ],
   "source": [
    "circuit_logit_diff/full_model_logit_diff"
   ]
  },
  {
   "cell_type": "code",
   "execution_count": 69,
   "metadata": {},
   "outputs": [
    {
     "data": {
      "text/plain": [
       "0.2394187082425867"
      ]
     },
     "execution_count": 69,
     "metadata": {},
     "output_type": "execute_result"
    }
   ],
   "source": [
    "circuit_logit_diff/model_logit_diff"
   ]
  },
  {
   "cell_type": "code",
   "execution_count": 73,
   "metadata": {},
   "outputs": [
    {
     "name": "stdout",
     "output_type": "stream",
     "text": [
      "[{'knockout_indices': [tensor([], device='cuda:0', dtype=torch.int64), tensor([4811, 9066], device='cuda:0'), tensor([10003,  1197,   534,  9663,  5066], device='cuda:0'), tensor([ 4501, 10155, 12988,   637, 11066,  1322, 15628, 11103,  1322, 10936],\n",
      "       device='cuda:0')]}, {'knockout_indices': [tensor([], device='cuda:0', dtype=torch.int64), tensor([8746, 8746], device='cuda:0'), tensor([11455, 11416, 12314,  7015, 11416], device='cuda:0'), tensor([ 8778,  1322, 11066,  2881, 12988, 11754,  4501,  7792,  2964,  8416],\n",
      "       device='cuda:0')]}, {'knockout_indices': [tensor([], device='cuda:0', dtype=torch.int64), tensor([8746, 4834], device='cuda:0'), tensor([10003, 11455,  3076, 12598,    52], device='cuda:0'), tensor([11706,  1435,  2295, 10936, 13113,  3960,  4501, 12988,  4769,  2534],\n",
      "       device='cuda:0')]}, {'knockout_indices': [tensor([], device='cuda:0', dtype=torch.int64), tensor([4834, 6868], device='cuda:0'), tensor([  712,  3076, 11455,    52,    52], device='cuda:0'), tensor([ 1322,  2664,  2664,  2664, 10936,  4603,  2664,  2881, 14423,  1435],\n",
      "       device='cuda:0')]}, {'knockout_indices': [tensor([], device='cuda:0', dtype=torch.int64), tensor([8746, 4811], device='cuda:0'), tensor([1197, 9663, 7015, 7015, 7015], device='cuda:0'), tensor([ 7622,  2964,   266,  2534,  2664, 12988, 12258,  4603,  5862, 10936],\n",
      "       device='cuda:0')]}]\n"
     ]
    }
   ],
   "source": [
    "random_k_results = []\n",
    "for i in range(5):\n",
    "    num_remove = [0, 2, 5, 10]\n",
    "    indices_rem_list = []\n",
    "    for ind, sae in enumerate(saes):\n",
    "        # Get indices to remove based on the original mask\n",
    "        indices_rem_list.append(get_indices_to_remove(sae.original_mask.mask.data, num_remove[ind]))\n",
    "    random_k_results.append({\"knockout_indices\": indices_rem_list})\n",
    "print(random_k_results)"
   ]
  },
  {
   "cell_type": "code",
   "execution_count": 74,
   "metadata": {},
   "outputs": [
    {
     "name": "stdout",
     "output_type": "stream",
     "text": [
      "[tensor([], device='cuda:0', dtype=torch.int64), tensor([4811, 9066], device='cuda:0'), tensor([10003,  1197,   534,  9663,  5066], device='cuda:0'), tensor([ 4501, 10155, 12988,   637, 11066,  1322, 15628, 11103,  1322, 10936],\n",
      "       device='cuda:0')]\n",
      "[tensor([], device='cuda:0', dtype=torch.int64), tensor([8746, 8746], device='cuda:0'), tensor([11455, 11416, 12314,  7015, 11416], device='cuda:0'), tensor([ 8778,  1322, 11066,  2881, 12988, 11754,  4501,  7792,  2964,  8416],\n",
      "       device='cuda:0')]\n",
      "[tensor([], device='cuda:0', dtype=torch.int64), tensor([8746, 4834], device='cuda:0'), tensor([10003, 11455,  3076, 12598,    52], device='cuda:0'), tensor([11706,  1435,  2295, 10936, 13113,  3960,  4501, 12988,  4769,  2534],\n",
      "       device='cuda:0')]\n",
      "[tensor([], device='cuda:0', dtype=torch.int64), tensor([4834, 6868], device='cuda:0'), tensor([  712,  3076, 11455,    52,    52], device='cuda:0'), tensor([ 1322,  2664,  2664,  2664, 10936,  4603,  2664,  2881, 14423,  1435],\n",
      "       device='cuda:0')]\n",
      "[tensor([], device='cuda:0', dtype=torch.int64), tensor([8746, 4811], device='cuda:0'), tensor([1197, 9663, 7015, 7015, 7015], device='cuda:0'), tensor([ 7622,  2964,   266,  2534,  2664, 12988, 12258,  4603,  5862, 10936],\n",
      "       device='cuda:0')]\n"
     ]
    }
   ],
   "source": [
    "for rand_ind, k_results in enumerate(random_k_results):\n",
    "    print(k_results['knockout_indices'])"
   ]
  },
  {
   "cell_type": "code",
   "execution_count": 75,
   "metadata": {},
   "outputs": [
    {
     "name": "stdout",
     "output_type": "stream",
     "text": [
      "Random set 0, F(C \\ K): 0.6087632099787395\n",
      "Random set 0, F(M \\ K): 3.9026493231455484\n",
      "Random set 1, F(C \\ K): 1.5345548391342163\n",
      "Random set 1, F(M \\ K): 4.646350781122844\n",
      "Random set 2, F(C \\ K): 0.9684387048085531\n",
      "Random set 2, F(M \\ K): 4.78669220606486\n",
      "Random set 3, F(C \\ K): 0.9224901835123698\n",
      "Random set 3, F(M \\ K): 4.037944634755452\n",
      "Random set 4, F(C \\ K): 0.814025338490804\n",
      "Random set 4, F(M \\ K): 4.914939181009928\n"
     ]
    }
   ],
   "source": [
    "# Evaluate F(C \\ K) and F(M \\ K) for N batches\n",
    "for rand_ind, k_results in enumerate(random_k_results):\n",
    "    for case in ['circuit', 'model']:\n",
    "        total_knock_logit_diff = 0.0\n",
    "        for batch_idx in range(num_batches):\n",
    "            batch_data = batch_clean_data[batch_idx * batch_size : (batch_idx + 1) * batch_size]\n",
    "            batch_labels = batch_clean_labels[batch_idx * batch_size : (batch_idx + 1) * batch_size]\n",
    "            with torch.no_grad():\n",
    "                for ind, sae in enumerate(saes):\n",
    "                    if case == 'circuit':\n",
    "                        sae.mask.mask.data = apply_subset_removal(sae.original_mask.mask.data, k_results['knockout_indices'][ind]).to(device)\n",
    "                    else:\n",
    "                        all_ones_mask = torch.ones_like(sae.mask.mask.data).float().to(device)\n",
    "                        sae.mask.mask.data = apply_subset_removal(all_ones_mask, k_results['knockout_indices'][ind]).to(device)\n",
    "                logits = model.run_with_hooks(\n",
    "                    batch_data,\n",
    "                    return_type=\"logits\",\n",
    "                    fwd_hooks=build_hooks_list(\n",
    "                        batch_data, \n",
    "                        cache_sae_activations=False, \n",
    "                        use_mask=True, \n",
    "                        binarize_mask=True, \n",
    "                        mean_mask=True\n",
    "                    )\n",
    "                )\n",
    "                logit_diff = adaptive_logit_diff(logits, batch_labels).item()\n",
    "                total_knock_logit_diff += logit_diff\n",
    "                del logits\n",
    "                cleanup_cuda()\n",
    "        # Average logit difference for the case\n",
    "        avg_knock_logit_diff = total_knock_logit_diff / num_batches\n",
    "        if case == 'circuit':\n",
    "            print(f\"Random set {rand_ind}, F(C \\ K): {avg_knock_logit_diff}\")\n",
    "            random_k_results[rand_ind]['F_C_K'] = avg_knock_logit_diff\n",
    "        else:\n",
    "            print(f\"Random set {rand_ind}, F(M \\ K): {avg_knock_logit_diff}\")\n",
    "            random_k_results[rand_ind]['F_M_K'] = avg_knock_logit_diff\n"
   ]
  },
  {
   "cell_type": "code",
   "execution_count": 93,
   "metadata": {},
   "outputs": [
    {
     "data": {
      "text/plain": [
       "tensor([1., 1., 1., 1., 1., 1., 1., 1., 1., 1., 1., 1., 1., 1., 1., 1., 1., 1.,\n",
       "        1., 1., 1., 1., 1., 1., 1., 1., 1., 1., 1., 1., 1., 1., 1., 1., 1., 1.,\n",
       "        1., 1., 1., 1., 1., 1., 1., 1., 1., 1., 1., 1., 1., 1., 1., 1., 1., 1.,\n",
       "        1., 1., 1., 1., 1., 1., 1., 1., 1., 1., 1., 1., 1.], device='cuda:0')"
      ]
     },
     "execution_count": 93,
     "metadata": {},
     "output_type": "execute_result"
    }
   ],
   "source": [
    "saes[0].original_mask.mask.data[:, 10768]"
   ]
  },
  {
   "cell_type": "code",
   "execution_count": 94,
   "metadata": {},
   "outputs": [
    {
     "data": {
      "text/plain": [
       "[tensor([10768, 11635]),\n",
       " tensor([ 2576,  4811,  4834,  6868,  8746,  9066, 12929, 15603]),\n",
       " tensor([   52,   534,   712,  1197,  1408,  3076,  5066,  7015,  7762,  8082,\n",
       "          8615,  9551,  9663, 10003, 10824, 11416, 11455, 12314, 12598, 14515]),\n",
       " tensor([  215,   266,   637,  1073,  1322,  1435,  2295,  2493,  2534,  2664,\n",
       "          2881,  2964,  2996,  3960,  4501,  4603,  4689,  4769,  5862,  7622,\n",
       "          7792,  8416,  8778,  9230,  9309,  9682, 10155, 10628, 10936, 11066,\n",
       "         11103, 11579, 11706, 11754, 11839, 12258, 12988, 13095, 13113, 13479,\n",
       "         14423, 15628, 15851])]"
      ]
     },
     "execution_count": 94,
     "metadata": {},
     "output_type": "execute_result"
    }
   ],
   "source": [
    "# full circuit removal\n",
    "\n",
    "indices_rem_list_full = []\n",
    "for ind, sae in enumerate(saes):\n",
    "    # Get indices to remove based on the original mask\n",
    "    indices_rem_list_full.append(torch.tensor(mean_circuit[f\"blocks.{layers[ind]}.hook_resid_post\"]))\n",
    "indices_rem_list_full"
   ]
  },
  {
   "cell_type": "code",
   "execution_count": 95,
   "metadata": {},
   "outputs": [
    {
     "name": "stdout",
     "output_type": "stream",
     "text": [
      "full_circ_knock_circ F(C \\ K): -0.0869588851928711\n",
      " full_circ_knock_model F(M \\ K): -0.5319523334503173\n"
     ]
    }
   ],
   "source": [
    "for case in ['circuit', 'model']:\n",
    "    total_knock_logit_diff = 0.0\n",
    "    for batch_idx in range(num_batches):\n",
    "        batch_data = batch_clean_data[batch_idx * batch_size : (batch_idx + 1) * batch_size]\n",
    "        batch_labels = batch_clean_labels[batch_idx * batch_size : (batch_idx + 1) * batch_size]\n",
    "        with torch.no_grad():\n",
    "            for ind, sae in enumerate(saes):\n",
    "                if case == 'circuit':\n",
    "                    sae.mask.mask.data = apply_subset_removal(sae.original_mask.mask.data, indices_rem_list_full[ind]).to(device)\n",
    "                else:\n",
    "                    all_ones_mask = torch.ones_like(sae.mask.mask.data).float().to(device)\n",
    "                    sae.mask.mask.data = apply_subset_removal(all_ones_mask, indices_rem_list_full[ind]).to(device)\n",
    "            logits = model.run_with_hooks(\n",
    "                batch_data,\n",
    "                return_type=\"logits\",\n",
    "                fwd_hooks=build_hooks_list(\n",
    "                    batch_data, \n",
    "                    cache_sae_activations=False, \n",
    "                    use_mask=True, \n",
    "                    binarize_mask=True, \n",
    "                    mean_mask=True\n",
    "                )\n",
    "            )\n",
    "            logit_diff = adaptive_logit_diff(logits, batch_labels).item()\n",
    "            total_knock_logit_diff += logit_diff\n",
    "            del logits\n",
    "            cleanup_cuda()\n",
    "    # Average logit difference for the case\n",
    "    avg_knock_logit_diff = total_knock_logit_diff / num_batches\n",
    "    if case == 'circuit':\n",
    "        print(f\"full_circ_knock_circ F(C \\ K): {avg_knock_logit_diff}\")\n",
    "        full_circ_knock_circ = avg_knock_logit_diff\n",
    "    else:\n",
    "        print(f\" full_circ_knock_model F(M \\ K): {avg_knock_logit_diff}\")\n",
    "        full_circ_knock_model = avg_knock_logit_diff\n"
   ]
  },
  {
   "cell_type": "code",
   "execution_count": 96,
   "metadata": {},
   "outputs": [],
   "source": [
    "labels = ['Null Set']\n",
    "for i in range(5):\n",
    "    labels.append(f\"Random Set {i}\")\n",
    "labels.append('Full Circuit Removal')"
   ]
  },
  {
   "cell_type": "code",
   "execution_count": 97,
   "metadata": {},
   "outputs": [
    {
     "data": {
      "text/plain": [
       "[(1.2142028570175172, 5.071461900075277),\n",
       " (0.6087632099787395, 3.9026493231455484),\n",
       " (1.5345548391342163, 4.646350781122844),\n",
       " (0.9684387048085531, 4.78669220606486),\n",
       " (0.9224901835123698, 4.037944634755452),\n",
       " (0.814025338490804, 4.914939181009928),\n",
       " (-0.0869588851928711, -0.5319523334503173)]"
      ]
     },
     "execution_count": 97,
     "metadata": {},
     "output_type": "execute_result"
    }
   ],
   "source": [
    "xy = [(circuit_logit_diff, model_logit_diff)]\n",
    "for rand_ind, k_results in enumerate(random_k_results):\n",
    "    xy.append((k_results['F_C_K'], k_results['F_M_K']))\n",
    "xy.append((full_circ_knock_circ, full_circ_knock_model))\n",
    "xy"
   ]
  },
  {
   "cell_type": "code",
   "execution_count": 99,
   "metadata": {},
   "outputs": [
    {
     "data": {
      "image/png": "[encoded data removed]",
      "text/plain": [
       "<Figure size 1000x700 with 1 Axes>"
      ]
     },
     "metadata": {},
     "output_type": "display_data"
    }
   ],
   "source": [
    "import matplotlib.pyplot as plt\n",
    "import numpy as np\n",
    "from sklearn.linear_model import LinearRegression\n",
    "# Extract x and y values\n",
    "# Separate the data into two groups\n",
    "# Separate the data into two groups\n",
    "null_set_xy = xy[0]\n",
    "random_sets_xy = xy[1:-1]\n",
    "full_circ_rem = xy[-1]\n",
    "\n",
    "# Extract x and y values for linear regression\n",
    "all_x = [point[0] for point in xy[:-1]]\n",
    "all_y = [point[1] for point in xy[:-1]]\n",
    "\n",
    "# Fit a linear regression model\n",
    "regressor = LinearRegression()\n",
    "all_x_reshaped = np.array(all_x).reshape(-1, 1)  # Reshape for sklearn\n",
    "regressor.fit(all_x_reshaped, all_y)\n",
    "\n",
    "# Generate points for the fitted line\n",
    "fitted_x = np.linspace(min(all_x), max(all_x), 100)\n",
    "fitted_y = regressor.predict(fitted_x.reshape(-1, 1))\n",
    "\n",
    "# Extract x and y values for each group\n",
    "null_set_x, null_set_y = null_set_xy\n",
    "random_x = [point[0] for point in random_sets_xy]\n",
    "random_y = [point[1] for point in random_sets_xy]\n",
    "full_circ_x, full_circ_y = full_circ_rem\n",
    "# Plot\n",
    "plt.figure(figsize=(10, 7))\n",
    "\n",
    "# Null set\n",
    "plt.scatter(null_set_x, null_set_y, color='red', label='Null Set', s=100)\n",
    "\n",
    "# Random sets\n",
    "plt.scatter(random_x, random_y, color='blue', label='Random Sets', s=100)\n",
    "\n",
    "# Full circuit removal\n",
    "plt.scatter(full_circ_x, full_circ_y, color='green', label='Full Circuit Removal', s=100)\n",
    "\n",
    "# Add reference line y = x\n",
    "x_line = [min([null_set_x] + random_x + [null_set_y] + random_y), max([null_set_x] + random_x + [null_set_y] + random_y)]\n",
    "plt.plot(x_line, x_line, linestyle=\"--\", color=\"gray\", label=\"y = x\")\n",
    "\n",
    "# Add fitted regression line\n",
    "plt.plot(fitted_x, fitted_y, linestyle=\"--\", color=\"green\", label=\"Fitted Line\")\n",
    "\n",
    "# Customize plot\n",
    "plt.title(\"Circuit Completeness Tests with Fitted Line\", fontsize=14)\n",
    "plt.xlabel(\"F(C \\\\ K)\", fontsize=12)\n",
    "plt.ylabel(\"F(M \\\\ K)\", fontsize=12)\n",
    "plt.legend(loc=\"lower right\", fontsize=10)\n",
    "plt.grid(True)\n",
    "\n",
    "# Show plot\n",
    "plt.show()"
   ]
  },
  {
   "cell_type": "code",
   "execution_count": 107,
   "metadata": {},
   "outputs": [
    {
     "data": {
      "image/png": "[encoded data removed]",
      "text/plain": [
       "<Figure size 1200x700 with 1 Axes>"
      ]
     },
     "metadata": {},
     "output_type": "display_data"
    }
   ],
   "source": [
    "import matplotlib.pyplot as plt\n",
    "import numpy as np\n",
    "\n",
    "# Data\n",
    "labels = [\n",
    "    \"Full Model\",\n",
    "    \"Model+SAE (no error)\",\n",
    "    \"Circuit\",\n",
    "    \"Full Circ Knock (Circ)\",\n",
    "    \"Full Circ Knock (Model)\"\n",
    "]\n",
    "values = [\n",
    "    full_model_logit_diff, model_logit_diff, circuit_logit_diff, full_circ_knock_circ, full_circ_knock_model\n",
    "]\n",
    "\n",
    "# Calculate faithfulness metrics\n",
    "faithfulness_full_model = [val / values[0] for val in values]\n",
    "faithfulness_model = [val / values[1] if values[1] != 0 else 0 for val in values]\n",
    "\n",
    "# Bar positions\n",
    "x = np.arange(len(labels))\n",
    "width = 0.25  # Width of each bar\n",
    "\n",
    "# Plot\n",
    "plt.figure(figsize=(12, 7))\n",
    "\n",
    "# Plot bars for the raw values, faithfulness (full model), and faithfulness (model + sae, no error)\n",
    "bars1 = plt.bar(x - width, values, width, label=\"Value\")\n",
    "bars2 = plt.bar(x, faithfulness_full_model, width, label=\"Faithfulness (Full Model)\")\n",
    "bars3 = plt.bar(x + width, faithfulness_model, width, label=\"Faithfulness (Model + SAE)\")\n",
    "\n",
    "# Add a dotted line at y = 1\n",
    "plt.axhline(1, color='black', linestyle='--', linewidth=1, alpha=0.7, label=\"y = 1\")\n",
    "\n",
    "# Add value labels on top of each bar\n",
    "for bars in [bars1, bars2, bars3]:\n",
    "    for bar in bars:\n",
    "        yval = bar.get_height()\n",
    "        plt.text(\n",
    "            bar.get_x() + bar.get_width() / 2, \n",
    "            yval, \n",
    "            f\"{yval:.2f}\", \n",
    "            ha='center', \n",
    "            va='bottom' if yval >= 0 else 'top',  # Adjust position for negative bars\n",
    "            fontsize=9\n",
    "        )\n",
    "\n",
    "\n",
    "# Customization\n",
    "plt.xticks(x, labels, rotation=0) #, ha='right')\n",
    "plt.ylabel(\"Values\")\n",
    "plt.title(\"Logit Diff and Faithfulness Metrics\")\n",
    "plt.legend()\n",
    "plt.grid(axis='y', linestyle='--', alpha=0.7)\n",
    "\n",
    "# Show plot\n",
    "plt.tight_layout()\n",
    "plt.show()\n"
   ]
  },
  {
   "cell_type": "code",
   "execution_count": 100,
   "metadata": {},
   "outputs": [
    {
     "data": {
      "text/plain": [
       "(6.6416096687316895,\n",
       " 5.071461900075277,\n",
       " 1.2142028570175172,\n",
       " -0.0869588851928711,\n",
       " -0.5319523334503173)"
      ]
     },
     "execution_count": 100,
     "metadata": {},
     "output_type": "execute_result"
    }
   ],
   "source": [
    "full_model_logit_diff, model_logit_diff, circuit_logit_diff, full_circ_knock_circ, full_circ_knock_model"
   ]
  },
  {
   "cell_type": "code",
   "execution_count": 86,
   "metadata": {},
   "outputs": [],
   "source": [
    "import pickle \n",
    "with open(\"mask_finding/out/mean_mask/circuit_completeness_results.pkl\", \"wb\") as f:\n",
    "    pickle.dump(random_k_results, f)"
   ]
  },
  {
   "cell_type": "code",
   "execution_count": 46,
   "metadata": {},
   "outputs": [
    {
     "data": {
      "text/plain": [
       "2.6782290140787763"
      ]
     },
     "execution_count": 46,
     "metadata": {},
     "output_type": "execute_result"
    }
   ],
   "source": [
    "model_logit_diff - circuit_logit_diff"
   ]
  },
  {
   "cell_type": "code",
   "execution_count": 47,
   "metadata": {},
   "outputs": [
    {
     "data": {
      "text/plain": [
       "1.7219330072402954"
      ]
     },
     "execution_count": 47,
     "metadata": {},
     "output_type": "execute_result"
    }
   ],
   "source": [
    "2.538733879725138 - 0.8168008724848429"
   ]
  },
  {
   "cell_type": "markdown",
   "metadata": {},
   "source": [
    "# Completeness Plot "
   ]
  },
  {
   "cell_type": "code",
   "execution_count": null,
   "metadata": {},
   "outputs": [],
   "source": [
    "full_model_logit_diff = 6.7203\n",
    "model_sae_logit_diff = 4.8791\n",
    "circuit_logit_diff = 2.200"
   ]
  },
  {
   "cell_type": "code",
   "execution_count": 5,
   "metadata": {},
   "outputs": [],
   "source": [
    "og_ld = 7 \n",
    "sae_ld = 3\n",
    "circ_ld = 1.5 "
   ]
  },
  {
   "cell_type": "code",
   "execution_count": 6,
   "metadata": {},
   "outputs": [
    {
     "data": {
      "text/plain": [
       "0.21428571428571427"
      ]
     },
     "execution_count": 6,
     "metadata": {},
     "output_type": "execute_result"
    }
   ],
   "source": [
    "1.5/7"
   ]
  },
  {
   "cell_type": "code",
   "execution_count": null,
   "metadata": {},
   "outputs": [],
   "source": []
  }
 ],
 "metadata": {
  "kernelspec": {
   "display_name": "Python 3",
   "language": "python",
   "name": "python3"
  },
  "language_info": {
   "codemirror_mode": {
    "name": "ipython",
    "version": 3
   },
   "file_extension": ".py",
   "mimetype": "text/x-python",
   "name": "python",
   "nbconvert_exporter": "python",
   "pygments_lexer": "ipython3",
   "version": "3.10.4"
  }
 },
 "nbformat": 4,
 "nbformat_minor": 2
}
